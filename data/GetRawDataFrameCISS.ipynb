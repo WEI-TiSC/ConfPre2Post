{
 "cells": [
  {
   "cell_type": "markdown",
   "id": "9d8d38d1",
   "metadata": {
    "ExecuteTime": {
     "end_time": "2024-03-04T06:00:10.649272Z",
     "start_time": "2024-03-04T06:00:10.629743Z"
    }
   },
   "source": [
    "# 事前准备"
   ]
  },
  {
   "cell_type": "code",
   "execution_count": 1,
   "id": "f43ef83c",
   "metadata": {
    "ExecuteTime": {
     "end_time": "2024-06-12T09:15:22.753680Z",
     "start_time": "2024-06-12T09:15:22.580731Z"
    }
   },
   "outputs": [],
   "source": [
    "import pandas as pd\n",
    "import numpy as np\n",
    "import os, time, math\n",
    "import collections\n",
    "\n",
    "OUTPUT_FILE = 'CISS_20240612'"
   ]
  },
  {
   "cell_type": "code",
   "execution_count": 2,
   "id": "2f0d6973",
   "metadata": {
    "ExecuteTime": {
     "end_time": "2024-06-12T09:15:23.208805Z",
     "start_time": "2024-06-12T09:15:23.193145Z"
    }
   },
   "outputs": [],
   "source": [
    "cur_dir = os.getcwd()\n",
    "relative_data_dir = os.path.join(cur_dir,\n",
    "                                 'raw_data', 'NASS_CISS_data', 'CISS_raw')"
   ]
  },
  {
   "cell_type": "code",
   "execution_count": 3,
   "id": "ca04be80",
   "metadata": {
    "ExecuteTime": {
     "end_time": "2024-06-12T09:15:23.852815Z",
     "start_time": "2024-06-12T09:15:23.836874Z"
    }
   },
   "outputs": [
    {
     "data": {
      "text/plain": [
       "'F:\\\\Code_reposity\\\\PyProjects\\\\nasscissInjuryAnalyze\\\\nasscissInjuryAnalysis\\\\src\\\\CreateData\\\\raw_data\\\\NASS_CISS_data\\\\CISS_raw'"
      ]
     },
     "execution_count": 3,
     "metadata": {},
     "output_type": "execute_result"
    }
   ],
   "source": [
    "relative_data_dir"
   ]
  },
  {
   "cell_type": "markdown",
   "id": "642aef4a",
   "metadata": {
    "ExecuteTime": {
     "end_time": "2024-03-04T06:01:39.771245Z",
     "start_time": "2024-03-04T06:01:39.749417Z"
    }
   },
   "source": [
    "# 数据读入并删除重复列"
   ]
  },
  {
   "cell_type": "code",
   "execution_count": 4,
   "id": "27c443c8",
   "metadata": {
    "ExecuteTime": {
     "end_time": "2024-06-12T09:15:26.303081Z",
     "start_time": "2024-06-12T09:15:25.187993Z"
    }
   },
   "outputs": [
    {
     "name": "stdout",
     "output_type": "stream",
     "text": [
      "Extracting table: CRASH ...\n",
      "\n",
      "Extracting table: EVENT ...\n",
      "\n",
      "Extracting table: CDC ...\n",
      "\n",
      "Extracting table: GV ...\n",
      "\n",
      "Extracting table: OCC ...\n",
      "\n"
     ]
    },
    {
     "data": {
      "text/plain": [
       "34873"
      ]
     },
     "execution_count": 4,
     "metadata": {},
     "output_type": "execute_result"
    }
   ],
   "source": [
    "wanted_table_list = ['CRASH', 'EVENT', 'CDC', 'GV', 'OCC']\n",
    "\n",
    "raw_data = dict()\n",
    "\n",
    "for table in wanted_table_list:\n",
    "    print('Extracting table: %s ...\\n' % table)\n",
    "    raw_data[table] = pd.DataFrame()\n",
    "    for year in range(2017, 2023):\n",
    "        tmp = pd.read_sas(\n",
    "            os.path.join(relative_data_dir, str(year), '%s.sas7bdat' % table))\n",
    "        raw_data[table] = pd.concat([raw_data[table], tmp])\n",
    "        raw_data[table].reset_index(inplace=True, drop=True)\n",
    "    raw_data[table] = raw_data[table].dropna(how='all', axis=1)\n",
    "\n",
    "merge_centre = 'OCC'\n",
    "len(raw_data[merge_centre])\n"
   ]
  },
  {
   "cell_type": "code",
   "execution_count": 5,
   "id": "c7fe9489",
   "metadata": {
    "ExecuteTime": {
     "end_time": "2024-06-12T09:15:27.496381Z",
     "start_time": "2024-06-12T09:15:27.433241Z"
    }
   },
   "outputs": [
    {
     "name": "stdout",
     "output_type": "stream",
     "text": [
      "CRASH with cases counted: 17459\n",
      "EVENT with cases counted: 32832\n",
      "CDC with cases counted: 36936\n",
      "GV with cases counted: 31084\n",
      "OCC with cases counted: 34873\n"
     ]
    }
   ],
   "source": [
    "for table in wanted_table_list:\n",
    "    raw_data[table] = raw_data[table].drop(\n",
    "        columns=['CASEID', 'PSU', 'CASENO', 'CATEGORY'])\n",
    "    print(table, 'with cases counted: %s' % len(raw_data[table]))\n",
    "\n",
    "    if table != 'CRASH':\n",
    "        raw_data[table] = raw_data[table].drop(\n",
    "            columns=['CASEWGT', 'PSUSTRAT', 'VERSION'])\n",
    "\n",
    "raw_data['CDC'] = raw_data['CDC'].drop(columns=['DVTOTAL'])\n"
   ]
  },
  {
   "cell_type": "markdown",
   "id": "8b1e8081",
   "metadata": {},
   "source": [
    "# 以OCC为中心进行结合"
   ]
  },
  {
   "cell_type": "code",
   "execution_count": 6,
   "id": "9b6947a0",
   "metadata": {
    "ExecuteTime": {
     "end_time": "2024-06-12T09:15:29.144368Z",
     "start_time": "2024-06-12T09:15:28.767775Z"
    }
   },
   "outputs": [],
   "source": [
    "merge_key = dict()\n",
    "for table in wanted_table_list:\n",
    "    if table == 'CRASH':\n",
    "        merge_key[table] = ['CASENUMBER']\n",
    "    if table in ['GV', 'CDC']:\n",
    "        merge_key[table] = ['CASENUMBER', 'VEHNO']\n",
    "    if table == 'OCC':\n",
    "        merge_key[table] = ['CASENUMBER', 'VEHNO', 'OCCNO']\n",
    "        \n",
    "ego_data = raw_data[merge_centre].copy(deep=True).drop(columns=['RACE'])\n",
    "other_data = raw_data['GV'].copy(deep=True)\n",
    "\n",
    "for table in ['GV']:\n",
    "    ego_data = pd.merge(ego_data, raw_data[table], on=merge_key[table], how='inner')\n",
    "for table in ['CRASH', 'CDC']:\n",
    "    ego_data = pd.merge(ego_data, raw_data[table], on=merge_key[table], how='left')\n",
    "    other_data = pd.merge(other_data, raw_data[table], on=merge_key[table], how='left')\n",
    "    \n",
    "for data in [ego_data, other_data]:\n",
    "    data.reset_index(drop=True, inplace=True)\n"
   ]
  },
  {
   "cell_type": "code",
   "execution_count": 7,
   "id": "4a226e43",
   "metadata": {
    "ExecuteTime": {
     "end_time": "2024-06-12T09:15:50.764138Z",
     "start_time": "2024-06-12T09:15:50.748477Z"
    }
   },
   "outputs": [
    {
     "data": {
      "text/plain": [
       "WEIGHT\n",
       "999.0    14386\n",
       "82.0       986\n",
       "68.0       930\n",
       "73.0       915\n",
       "91.0       886\n",
       "         ...  \n",
       "228.0        1\n",
       "190.0        1\n",
       "189.0        1\n",
       "217.0        1\n",
       "213.0        1\n",
       "Name: count, Length: 196, dtype: int64"
      ]
     },
     "execution_count": 7,
     "metadata": {},
     "output_type": "execute_result"
    }
   ],
   "source": [
    "raw_data['OCC']['WEIGHT'].value_counts()"
   ]
  },
  {
   "cell_type": "markdown",
   "id": "5f877056",
   "metadata": {},
   "source": [
    "# 处理特征"
   ]
  },
  {
   "cell_type": "markdown",
   "id": "38f575bd",
   "metadata": {
    "ExecuteTime": {
     "end_time": "2024-03-07T06:00:11.249928Z",
     "start_time": "2024-03-07T06:00:11.212053Z"
    }
   },
   "source": [
    "## 特征名统一化"
   ]
  },
  {
   "cell_type": "code",
   "execution_count": 8,
   "id": "ac852e06",
   "metadata": {
    "ExecuteTime": {
     "end_time": "2024-06-12T09:15:55.253783Z",
     "start_time": "2024-06-12T09:15:55.237788Z"
    },
    "code_folding": []
   },
   "outputs": [],
   "source": [
    "factor_list_ciss = {\n",
    "    'vehicle': {\n",
    "        'MODELYR': 'Model Year',\n",
    "        'CURBWT': 'Curb Weight',  # 要用吗？？？\n",
    "        #         'TRAVELSP': 'Travel Speed',\n",
    "        'PREMOVE': 'premovement before collision',  # -- 还需要检查如何分类！\n",
    "        'MANEUVER': 'Maneuver before collision',  # -- 还需要检查如何分类！\n",
    "        'PDOF': 'Clock-form Direction of force',\n",
    "        'BODYTYPE': 'Body Type',\n",
    "        #         'otbdytyp': 'Body Type of the other vehicle'  # 对方车辆情报\n",
    "    },\n",
    "    'driver': {\n",
    "        'DRPRESENT': 'Driver Present',  # 用于筛选\n",
    "        'PARALCOHOL': 'Alcohol Present',\n",
    "        # 'DRUGS': 'Drug Present',\n",
    "        'DISTRACT':\n",
    "        'Distracted in Driving',  # 注意CISS中DISTRACT=9为未知（但是一半都是缺损也太多了！）\n",
    "        'SEX': 'Sex',  # 3~6 为怀孕 （时间越长编号越大）\n",
    "        'AGE': 'Age',\n",
    "        'HEIGHT': 'height',\n",
    "        'WEIGHT': 'weight',\n",
    "        'RACE': 'Race'  # 0612追加    ---  更新：欠缺值太多了，怎么办哇！\n",
    "    },\n",
    "    'environment': {\n",
    "        'SPEEDLIMIT': 'Speed Limit',  # 0为无速度限制 -- 换成大值！-- 还需要检查如何分类！\n",
    "        'RELTOJUNCT': 'Related to Intersection',\n",
    "        'TRAFFLOW': 'Traffic Flow Situation',\n",
    "        'RDLANES': 'Number of lanes',\n",
    "        'ALIGNMENT': 'Alignment of Road',\n",
    "        'PROFILE': 'Uphill or Downhill',  # 用吗？\n",
    "        'SURFTYPE': 'Surface Type',  # 用于筛选-- 还需要检查如何分类！\n",
    "        'SURFCOND': 'Surface Condition',  # 路面条件，用吗？-- 还需要检查如何分类！\n",
    "        'LIGHTCOND': 'Lighting Condition',\n",
    "        'WEATHER': 'Climate',  # -- 还需要检查如何分类！\n",
    "        'TRAFDEV': 'Traffic Condition',  # 是否有学校等减速，用吗？  -- 还需要检查如何分类！\n",
    "        # 'PREEVENT': 'Pre-crash Event', # 事故前事件，用吗？  -- 还需要检查如何分类！\n",
    "        'PRELOC': 'Pre-event Location',\n",
    "        'TRAFFUNCT': 'Traffic Conrtol Functioning',\n",
    "        'MANCOLL': 'Crash Type'  # 引用硕士研究说明这个东西可以被预测！  -  这个已经帮忙分好类了！！！\n",
    "    },\n",
    "    'time series': {\n",
    "        'CRASHMONTH': 'month',\n",
    "        'CRASHYEAR': 'year',\n",
    "        'DAYOFWEEK': 'Day in Week'\n",
    "    },\n",
    "    'post crash': {\n",
    "        'DVTOTAL': 'delta v',  # 0612追加 （for compare）\n",
    "        'DVCONF': 'delta v confidence level'\n",
    "    }\n",
    "}"
   ]
  },
  {
   "cell_type": "code",
   "execution_count": 9,
   "id": "7e782171",
   "metadata": {
    "ExecuteTime": {
     "end_time": "2024-06-12T09:15:56.839805Z",
     "start_time": "2024-06-12T09:15:56.826359Z"
    }
   },
   "outputs": [
    {
     "name": "stdout",
     "output_type": "stream",
     "text": [
      "No factor missed!\n",
      "Feature number is: 33\n"
     ]
    }
   ],
   "source": [
    "included = 1\n",
    "feature_count = 0\n",
    "\n",
    "for cate, features in factor_list_ciss.items():\n",
    "    for factor in features.keys():\n",
    "        feature_count += 1\n",
    "        if factor not in ego_data.columns:\n",
    "            print('No existance! %s' %factor)\n",
    "            included = 0\n",
    "\n",
    "if included:\n",
    "    print('No factor missed!')\n",
    "print('Feature number is: %s' %feature_count)"
   ]
  },
  {
   "cell_type": "markdown",
   "id": "68151371",
   "metadata": {},
   "source": [
    "## 处理Nan值 & 数据筛选（初筛：将所有特征的未定义转换成nan  - 客观）\n",
    "\n",
    "- 注：并未dropna所以不影响！真正dropna在第三次筛选）\n"
   ]
  },
  {
   "cell_type": "code",
   "execution_count": 10,
   "id": "87bea0c3",
   "metadata": {
    "ExecuteTime": {
     "end_time": "2024-06-12T09:15:58.755187Z",
     "start_time": "2024-06-12T09:15:58.660964Z"
    }
   },
   "outputs": [],
   "source": [
    "deal_ego = ego_data.copy(deep=True)\n",
    "# deal_other = other_data.copy(deep=True)"
   ]
  },
  {
   "cell_type": "code",
   "execution_count": 11,
   "id": "cd21618e",
   "metadata": {
    "ExecuteTime": {
     "end_time": "2024-06-12T09:15:59.305111Z",
     "start_time": "2024-06-12T09:15:59.258253Z"
    }
   },
   "outputs": [
    {
     "name": "stdout",
     "output_type": "stream",
     "text": [
      "The table 1 got null at feature MODELYR before processing: 0 and after processing it got: 2 more\n",
      "The table 1 got null at feature CURBWT before processing: 0 and after processing it got: 289 more\n",
      "The table 1 got null at feature PREMOVE before processing: 0 and after processing it got: 46 more\n",
      "The table 1 got null at feature PREMOVE before processing: 46 and after processing it got: 37 more\n",
      "The table 1 got null at feature MANEUVER before processing: 0 and after processing it got: 816 more\n",
      "The table 1 got null at feature MANEUVER before processing: 816 and after processing it got: 19643 more\n",
      "************************************************** \n",
      " Over 10% nan of feature:  MANEUVER\n",
      "**************************************************\n",
      "The table 1 got null at feature BODYTYPE before processing: 0 and after processing it got: 0 more\n",
      "The table 1 got null at feature BODYTYPE before processing: 0 and after processing it got: 0 more\n",
      "The table 1 got null at feature PDOF before processing: 4600 and after processing it got: 5161 more\n",
      "The table 1 got null at feature PDOF before processing: 9761 and after processing it got: 2135 more\n",
      "The table 1 got null at feature DRPRESENT before processing: 0 and after processing it got: 0 more\n",
      "The table 1 got null at feature PARALCOHOL before processing: 0 and after processing it got: 12 more\n",
      "The table 1 got null at feature PARALCOHOL before processing: 12 and after processing it got: 6097 more\n",
      "************************************************** \n",
      " Over 10% nan of feature:  PARALCOHOL\n",
      "**************************************************\n",
      "The table 1 got null at feature PARALCOHOL before processing: 6109 and after processing it got: 3776 more\n",
      "The table 1 got null at feature DISTRACT before processing: 0 and after processing it got: 23533 more\n",
      "************************************************** \n",
      " Over 10% nan of feature:  DISTRACT\n",
      "**************************************************\n",
      "The table 1 got null at feature SEX before processing: 0 and after processing it got: 1065 more\n",
      "The table 1 got null at feature HEIGHT before processing: 0 and after processing it got: 23502 more\n",
      "************************************************** \n",
      " Over 10% nan of feature:  HEIGHT\n",
      "**************************************************\n",
      "The table 1 got null at feature WEIGHT before processing: 0 and after processing it got: 21676 more\n",
      "************************************************** \n",
      " Over 10% nan of feature:  WEIGHT\n",
      "**************************************************\n",
      "The table 1 got null at feature AGE before processing: 0 and after processing it got: 1428 more\n",
      "The table 1 got null at feature RACE before processing: 0 and after processing it got: 689 more\n",
      "The table 1 got null at feature RACE before processing: 689 and after processing it got: 12 more\n",
      "The table 1 got null at feature RACE before processing: 701 and after processing it got: 21151 more\n",
      "************************************************** \n",
      " Over 10% nan of feature:  RACE\n",
      "**************************************************\n",
      "The table 1 got null at feature SPEEDLIMIT before processing: 0 and after processing it got: 403 more\n",
      "The table 1 got null at feature RELTOJUNCT before processing: 0 and after processing it got: 1 more\n",
      "The table 1 got null at feature TRAFFLOW before processing: 0 and after processing it got: 2 more\n",
      "The table 1 got null at feature RDLANES before processing: 0 and after processing it got: 10 more\n",
      "The table 1 got null at feature ALIGNMENT before processing: 0 and after processing it got: 31 more\n",
      "The table 1 got null at feature PROFILE before processing: 0 and after processing it got: 6072 more\n",
      "************************************************** \n",
      " Over 10% nan of feature:  PROFILE\n",
      "**************************************************\n",
      "The table 1 got null at feature SURFTYPE before processing: 0 and after processing it got: 12 more\n",
      "The table 1 got null at feature SURFTYPE before processing: 12 and after processing it got: 6 more\n",
      "The table 1 got null at feature SURFCOND before processing: 0 and after processing it got: 43 more\n",
      "The table 1 got null at feature SURFCOND before processing: 43 and after processing it got: 71 more\n",
      "The table 1 got null at feature LIGHTCOND before processing: 0 and after processing it got: 72 more\n",
      "The table 1 got null at feature WEATHER before processing: 0 and after processing it got: 207 more\n",
      "The table 1 got null at feature WEATHER before processing: 207 and after processing it got: 183 more\n",
      "The table 1 got null at feature TRAFDEV before processing: 0 and after processing it got: 29 more\n",
      "The table 1 got null at feature PRELOC before processing: 0 and after processing it got: 68 more\n",
      "The table 1 got null at feature MANCOLL before processing: 0 and after processing it got: 20140 more\n",
      "************************************************** \n",
      " Over 10% nan of feature:  MANCOLL\n",
      "**************************************************\n",
      "The table 1 got null at feature TRAFFUNCT before processing: 0 and after processing it got: 134 more\n",
      "The table 1 got null at feature MANCOLL before processing: 20140 and after processing it got: 858 more\n",
      "The table 1 got null at feature MAIS before processing: 0 and after processing it got: 4591 more\n",
      "The table 1 got null at feature MAIS before processing: 4591 and after processing it got: 5254 more\n",
      "The table 1 got null at feature DVTOTAL before processing: 17 and after processing it got: 27108 more\n",
      "************************************************** \n",
      " Over 10% nan of feature:  DVTOTAL\n",
      "**************************************************\n"
     ]
    }
   ],
   "source": [
    "nanlist_ciss = [\n",
    "    # vehicle\n",
    "    ['MODELYR', 9999],\n",
    "    ['CURBWT', 9999],\n",
    "    ['PREMOVE', 99],\n",
    "    ['PREMOVE', 98],\n",
    "    ['MANEUVER', 98],\n",
    "    ['MANEUVER', 99],\n",
    "    ['BODYTYPE', 99],\n",
    "    ['BODYTYPE', 98],\n",
    "    ['PDOF', 998],\n",
    "    ['PDOF', 999],\n",
    "\n",
    "    # driver\n",
    "    ['DRPRESENT', 9],\n",
    "    ['PARALCOHOL', 7],\n",
    "    ['PARALCOHOL', 8],\n",
    "    ['PARALCOHOL', 9],\n",
    "    ['DISTRACT', 9],\n",
    "    ['SEX', 9],\n",
    "    ['HEIGHT', 999],\n",
    "    ['WEIGHT', 999],\n",
    "    ['AGE', 999],\n",
    "    ['RACE', 7],\n",
    "    ['RACE', 8],\n",
    "    ['RACE', 9],\n",
    "\n",
    "    # environment\n",
    "    ['SPEEDLIMIT', 999],\n",
    "    ['RELTOJUNCT', 9],\n",
    "    ['TRAFFLOW', 9],\n",
    "    ['RDLANES', 9],\n",
    "    ['ALIGNMENT', 9],\n",
    "    ['PROFILE', 9],\n",
    "    ['SURFTYPE', 8],\n",
    "    ['SURFTYPE', 9],\n",
    "    ['SURFCOND', 98],\n",
    "    ['SURFCOND', 99],\n",
    "    ['LIGHTCOND', 9],\n",
    "    ['WEATHER', 98],\n",
    "    ['WEATHER', 99],\n",
    "    ['TRAFDEV', 9],\n",
    "    ['PRELOC', 9],\n",
    "    ['MANCOLL', 0],\n",
    "    ['TRAFFUNCT', 9],\n",
    "    ['MANCOLL', 9],\n",
    "\n",
    "    # OBJECTIVE\n",
    "    ['MAIS', 9],\n",
    "    ['MAIS', 99],\n",
    "    \n",
    "    # Compare\n",
    "    ['DVTOTAL', 999]\n",
    "]\n",
    "\n",
    "# for i, data in enumerate([deal_ego, deal_other]):\n",
    "for i, data in enumerate([deal_ego]):\n",
    "    for target in nanlist_ciss:\n",
    "        if target[0] in data:\n",
    "            initial_nan = data[target[0]].isnull().sum()\n",
    "            data.loc[data[target[0]] == target[1], target[0]] = np.nan\n",
    "            processed = data[target[0]].isnull().sum()\n",
    "            print(\n",
    "                \"The table %s got null at feature %s before processing: %s and after processing it got: %s more\"\n",
    "                % (i + 1, target[0], initial_nan, processed - initial_nan))\n",
    "            if processed - initial_nan > len(data) / 10:\n",
    "                print(\"*\" * 50, \"\\n Over 10% nan of feature: \", target[0])\n",
    "                print(\"*\" * 50)"
   ]
  },
  {
   "cell_type": "code",
   "execution_count": 12,
   "id": "6ef97d58",
   "metadata": {
    "ExecuteTime": {
     "end_time": "2024-06-12T09:16:01.629143Z",
     "start_time": "2024-06-12T09:16:01.598281Z"
    }
   },
   "outputs": [],
   "source": [
    "# for data in [deal_ego, deal_other]:\n",
    "for data in [deal_ego]:\n",
    "    for category in factor_list_ciss.keys():\n",
    "        for old_name, new_name in factor_list_ciss.get(category).items():\n",
    "            if old_name in data.columns:\n",
    "                data[new_name] = data[old_name]"
   ]
  },
  {
   "cell_type": "markdown",
   "id": "50cae4d4",
   "metadata": {},
   "source": [
    "## 分车种"
   ]
  },
  {
   "cell_type": "code",
   "execution_count": 14,
   "id": "4c17534b",
   "metadata": {
    "ExecuteTime": {
     "end_time": "2024-06-12T09:16:05.209817Z",
     "start_time": "2024-06-12T09:16:05.178643Z"
    },
    "scrolled": false
   },
   "outputs": [],
   "source": [
    "# for data in [deal_ego, deal_other]:    \n",
    "for data in [deal_ego]:\n",
    "    for prev_col, new_col in zip(['BODYTYPE'], ['Body Category']):\n",
    "        data.loc[(data[prev_col] <= 9) | (data[prev_col] == 11) |\n",
    "                 (data[prev_col] == 12) | (data[prev_col] == 17),\n",
    "                 new_col] = 0  #Sedan\n",
    "        data.loc[((data[prev_col] >= 14) & (data[prev_col] <= 16)) |\n",
    "                 (data[prev_col] == 19), new_col] = 1  #SUV\n",
    "        data.loc[((data[prev_col] >= 20) & (data[prev_col] <= 29)) |\n",
    "                 (data[prev_col] == 60), new_col] = 2  #Van\n",
    "        data.loc[(data[prev_col] == 10) | ((data[prev_col] >= 30) &\n",
    "                                           (data[prev_col] <= 39)) |\n",
    "                 (data[prev_col] == 67), new_col] = 3  #Pickup\n",
    "        "
   ]
  },
  {
   "cell_type": "markdown",
   "id": "d206d80b",
   "metadata": {},
   "source": [
    "## 对于可预见事故，获取对方信息"
   ]
  },
  {
   "cell_type": "code",
   "execution_count": 15,
   "id": "c7765ca4",
   "metadata": {
    "ExecuteTime": {
     "end_time": "2024-06-12T09:16:08.823251Z",
     "start_time": "2024-06-12T09:16:08.807344Z"
    }
   },
   "outputs": [],
   "source": [
    "# other_col_list = ['Clock-form Direction of force', 'Body Category', 'premovement before collision']\n",
    "\n",
    "# df_other = deal_other.copy(deep=True).drop_duplicates(subset=['CASENUMBER', 'VEHNO', 'EVENTNO'] + other_col_list)\n",
    "# df_other['VEHNO'] = df_other['OBJCONT']\n",
    "# new_col_list = []\n",
    "\n",
    "# for col in other_col_list:\n",
    "#     ocol = 'Other Veh ' + col\n",
    "#     df_other[ocol] = df_other[col]\n",
    "#     new_col_list.append(ocol)\n",
    "# df_other = df_other[new_col_list + ['CASENUMBER', 'VEHNO', 'EVENTNO']]\n",
    "# data_with_oinfo = pd.merge(deal_ego, df_other, on=['CASENUMBER', 'VEHNO', 'EVENTNO'], how='left')\n",
    "# data_with_oinfo = data_with_oinfo.dropna(subset=['MAIS'])\n"
   ]
  },
  {
   "cell_type": "code",
   "execution_count": null,
   "id": "44818be9",
   "metadata": {
    "ExecuteTime": {
     "end_time": "2024-04-11T01:50:35.345914Z",
     "start_time": "2024-04-11T01:50:35.332680Z"
    },
    "scrolled": true
   },
   "outputs": [],
   "source": [
    "# tmp = data_with_oinfo\n",
    "# for col in new_col_list:\n",
    "#     print(\"Feature %s ,Percentage of data restored: %s\" % (col, round(1 - len(tmp[col].dropna()) / len(tmp), 3)))"
   ]
  },
  {
   "cell_type": "markdown",
   "id": "ed8c182c",
   "metadata": {},
   "source": [
    "## 进一次数据筛选（法律，车辆数，车辆类型） - 客观"
   ]
  },
  {
   "cell_type": "code",
   "execution_count": 17,
   "id": "27c31692",
   "metadata": {
    "ExecuteTime": {
     "end_time": "2024-06-12T09:16:25.721449Z",
     "start_time": "2024-06-12T09:16:25.187836Z"
    }
   },
   "outputs": [
    {
     "name": "stdout",
     "output_type": "stream",
     "text": [
      "VEHICLES == 2: cases: 55245 before -> 28699 left. True ratio: 0.0639\n",
      "ROLE == 1: cases: 28699 before -> 19549 left. True ratio: 0.0657\n",
      "BODYTYPE < 80 & BODYTYPE != 13: cases: 19549 before -> 19549 left. True ratio: 0.0657\n",
      "PREMOVE != 0: cases: 19549 before -> 19549 left. True ratio: 0.0657\n",
      "MANEUVER != 0: cases: 19549 before -> 19549 left. True ratio: 0.0657\n",
      "DISTRACT != 0: cases: 19549 before -> 19545 left. True ratio: 0.0657\n",
      "AGE >= 15: cases: 19545 before -> 19358 left. True ratio: 0.0663\n",
      "PRELOC != 0: cases: 19358 before -> 19358 left. True ratio: 0.0663\n",
      "DVRANK == 1: cases: 19358 before -> 12482 left. True ratio: 0.0572\n",
      "MAIS < 7: cases: 12482 before -> 10488 left. True ratio: 0.068\n"
     ]
    }
   ],
   "source": [
    "query_conditions = [\n",
    "    'VEHICLES == 2',  # 两车相撞\n",
    "    'ROLE == 1',  # 指定驾驶员\n",
    "    'BODYTYPE < 80 & BODYTYPE != 13',  # 车辆类型限定\n",
    "    'PREMOVE != 0',  # 有驾驶员\n",
    "    'MANEUVER != 0',  # 同上\n",
    "    'DISTRACT != 0',  # 同上\n",
    "    'AGE >= 15',  # 法律上\n",
    "    'PRELOC != 0',\n",
    "    'DVRANK == 1',  # 最大DV\n",
    "    'MAIS < 7'\n",
    "]\n",
    "\n",
    "# data_with_selection = data_with_oinfo.copy(deep=True)\n",
    "data_with_selection = deal_ego.copy(deep=True)\n",
    "\n",
    "for que in query_conditions:\n",
    "    prev_len = len(data_with_selection)\n",
    "    data_with_selection = data_with_selection.query(que)\n",
    "    print('%s: cases: %s before -> %s left. True ratio: %s' %\n",
    "          (que, prev_len, len(data_with_selection),\n",
    "           int(len(data_with_selection.query('MAIS > 2')) / len(data_with_selection)*10000) / 10000))\n",
    "data_with_selection.reset_index(drop=True, inplace=True)"
   ]
  },
  {
   "cell_type": "code",
   "execution_count": null,
   "id": "a9d42247",
   "metadata": {
    "ExecuteTime": {
     "end_time": "2024-04-11T01:50:39.957610Z",
     "start_time": "2024-04-11T01:50:39.949608Z"
    }
   },
   "outputs": [],
   "source": [
    "# for oinfo in new_col_list:\n",
    "#     print('Info name: %s, Valid oinfo case: %s, with ratio: %s' %(\n",
    "#         oinfo, \n",
    "#         sum(data_with_selection[oinfo].value_counts()), \n",
    "#         sum(data_with_selection[oinfo].value_counts()) / len(data_with_selection))\n",
    "#         )"
   ]
  },
  {
   "cell_type": "markdown",
   "id": "d178fd7d",
   "metadata": {
    "ExecuteTime": {
     "end_time": "2024-03-07T09:05:07.560845Z",
     "start_time": "2024-03-07T09:05:07.534212Z"
    }
   },
   "source": [
    "## 提取需要的列"
   ]
  },
  {
   "cell_type": "code",
   "execution_count": 18,
   "id": "99fdff25",
   "metadata": {
    "ExecuteTime": {
     "end_time": "2024-06-12T09:20:42.255590Z",
     "start_time": "2024-06-12T09:20:42.239963Z"
    }
   },
   "outputs": [
    {
     "data": {
      "text/plain": [
       "(['MAIS',\n",
       "  'Body Category',\n",
       "  'Model Year',\n",
       "  'Curb Weight',\n",
       "  'premovement before collision',\n",
       "  'Maneuver before collision',\n",
       "  'Clock-form Direction of force',\n",
       "  'Alcohol Present',\n",
       "  'Distracted in Driving',\n",
       "  'Sex',\n",
       "  'Age',\n",
       "  'height',\n",
       "  'weight',\n",
       "  'Race',\n",
       "  'Speed Limit',\n",
       "  'Related to Intersection',\n",
       "  'Traffic Flow Situation',\n",
       "  'Number of lanes',\n",
       "  'Alignment of Road',\n",
       "  'Uphill or Downhill',\n",
       "  'Surface Type',\n",
       "  'Surface Condition',\n",
       "  'Lighting Condition',\n",
       "  'Climate',\n",
       "  'Traffic Condition',\n",
       "  'Pre-event Location',\n",
       "  'Traffic Conrtol Functioning',\n",
       "  'Crash Type',\n",
       "  'month',\n",
       "  'year',\n",
       "  'Day in Week',\n",
       "  'delta v',\n",
       "  'delta v confidence level'],\n",
       " 33)"
      ]
     },
     "execution_count": 18,
     "metadata": {},
     "output_type": "execute_result"
    }
   ],
   "source": [
    "# wanted_features = ['MAIS', 'Body Category'] + new_col_list\n",
    "wanted_features = ['MAIS', 'Body Category']\n",
    "\n",
    "for cate in factor_list_ciss.keys():\n",
    "    for sas_name, feature_name in factor_list_ciss.get(cate).items():\n",
    "        if sas_name in ('BODYTYPE', 'DRPRESENT'):\n",
    "            continue\n",
    "        wanted_features.append(feature_name)\n",
    "        \n",
    "wanted_features, len(wanted_features)\n"
   ]
  },
  {
   "cell_type": "code",
   "execution_count": 19,
   "id": "9795c050",
   "metadata": {
    "ExecuteTime": {
     "end_time": "2024-06-12T09:20:44.451579Z",
     "start_time": "2024-06-12T09:20:44.419649Z"
    }
   },
   "outputs": [
    {
     "name": "stdout",
     "output_type": "stream",
     "text": [
      "Info name: Maneuver before collision, Valid info case: 7512, with ratio: 0.716\n",
      "Info name: Distracted in Driving, Valid info case: 6822, with ratio: 0.65\n",
      "Info name: height, Valid info case: 7239, with ratio: 0.69\n",
      "Info name: weight, Valid info case: 7529, with ratio: 0.718\n",
      "Info name: Race, Valid info case: 7175, with ratio: 0.684\n",
      "Info name: delta v, Valid info case: 7430, with ratio: 0.708\n"
     ]
    }
   ],
   "source": [
    "for info in wanted_features:\n",
    "    true_info_ratio = sum(data_with_selection[info].value_counts()) / len(data_with_selection)\n",
    "    if true_info_ratio < 0.8:\n",
    "        print('Info name: %s, Valid info case: %s, with ratio: %s' %(\n",
    "            info, \n",
    "            sum(data_with_selection[info].value_counts()), \n",
    "            round(true_info_ratio, 3)\n",
    "            ))\n",
    "        if true_info_ratio < 0.5:\n",
    "            print( \"*\" * 50, '\\n', info, 'Warining: 数据少一半以上！\\n', \"*\" * 50)"
   ]
  },
  {
   "cell_type": "markdown",
   "id": "048d9f6b",
   "metadata": {},
   "source": [
    "## 三次筛选（考虑到使用特征的筛选） - 主观筛选\n",
    "考虑到预测时候可能不需要Maneuver因为太接近事故发生，所以dropna时候就不drop它！\n",
    "\n",
    "dropna时不drop的属性： MANEUVER, OPDOF, OTRAVELSP, OPREMOVE, PARALCOHOL, DISTRACT"
   ]
  },
  {
   "cell_type": "code",
   "execution_count": 20,
   "id": "5c72c05a",
   "metadata": {
    "ExecuteTime": {
     "end_time": "2024-06-12T09:20:46.052390Z",
     "start_time": "2024-06-12T09:20:46.036852Z"
    }
   },
   "outputs": [
    {
     "data": {
      "text/plain": [
       "['Number of lanes',\n",
       " 'Day in Week',\n",
       " 'Body Category',\n",
       " 'weight',\n",
       " 'Related to Intersection',\n",
       " 'Lighting Condition',\n",
       " 'Race',\n",
       " 'Alignment of Road',\n",
       " 'month',\n",
       " 'Traffic Flow Situation',\n",
       " 'Climate',\n",
       " 'MAIS',\n",
       " 'Uphill or Downhill',\n",
       " 'Pre-event Location',\n",
       " 'Surface Condition',\n",
       " 'Clock-form Direction of force',\n",
       " 'Speed Limit',\n",
       " 'Age',\n",
       " 'premovement before collision',\n",
       " 'Traffic Conrtol Functioning',\n",
       " 'Sex',\n",
       " 'year',\n",
       " 'Model Year',\n",
       " 'Crash Type',\n",
       " 'height',\n",
       " 'Traffic Condition',\n",
       " 'Curb Weight',\n",
       " 'Surface Type']"
      ]
     },
     "execution_count": 20,
     "metadata": {},
     "output_type": "execute_result"
    }
   ],
   "source": [
    "no_dropna_cols = [\n",
    "    'Other Veh Clock-form Direction of force',\n",
    "    'Other Veh premovement before collision',\n",
    "    'Alcohol Present',\n",
    "    'Distracted in Driving',\n",
    "    'Maneuver before collision',\n",
    "    'Other Veh Body Category',\n",
    "    'delta v',\n",
    "    'delta v confidence level',\n",
    "    ]\n",
    "\n",
    "dropna_cols = list(set(wanted_features) - set(no_dropna_cols))\n",
    "dropna_cols"
   ]
  },
  {
   "cell_type": "code",
   "execution_count": 21,
   "id": "9eb91b39",
   "metadata": {
    "ExecuteTime": {
     "end_time": "2024-06-12T09:20:48.988244Z",
     "start_time": "2024-06-12T09:20:48.925776Z"
    },
    "scrolled": false
   },
   "outputs": [
    {
     "data": {
      "text/html": [
       "<div>\n",
       "<style scoped>\n",
       "    .dataframe tbody tr th:only-of-type {\n",
       "        vertical-align: middle;\n",
       "    }\n",
       "\n",
       "    .dataframe tbody tr th {\n",
       "        vertical-align: top;\n",
       "    }\n",
       "\n",
       "    .dataframe thead th {\n",
       "        text-align: right;\n",
       "    }\n",
       "</style>\n",
       "<table border=\"1\" class=\"dataframe\">\n",
       "  <thead>\n",
       "    <tr style=\"text-align: right;\">\n",
       "      <th></th>\n",
       "      <th>CASENUMBER</th>\n",
       "      <th>VEHNO</th>\n",
       "      <th>OCCNO</th>\n",
       "      <th>SEATLOC</th>\n",
       "      <th>AGE</th>\n",
       "      <th>HEIGHT</th>\n",
       "      <th>WEIGHT</th>\n",
       "      <th>SEX</th>\n",
       "      <th>FETALMORT</th>\n",
       "      <th>ROLE</th>\n",
       "      <th>...</th>\n",
       "      <th>Traffic Condition</th>\n",
       "      <th>Pre-event Location</th>\n",
       "      <th>Traffic Conrtol Functioning</th>\n",
       "      <th>Crash Type</th>\n",
       "      <th>month</th>\n",
       "      <th>year</th>\n",
       "      <th>Day in Week</th>\n",
       "      <th>delta v</th>\n",
       "      <th>delta v confidence level</th>\n",
       "      <th>Body Category</th>\n",
       "    </tr>\n",
       "  </thead>\n",
       "  <tbody>\n",
       "    <tr>\n",
       "      <th>0</th>\n",
       "      <td>b'1-10-2017-003-09'</td>\n",
       "      <td>1.0</td>\n",
       "      <td>1.0</td>\n",
       "      <td>11.0</td>\n",
       "      <td>30.0</td>\n",
       "      <td>170.0</td>\n",
       "      <td>93.0</td>\n",
       "      <td>4.0</td>\n",
       "      <td>0.0</td>\n",
       "      <td>1.0</td>\n",
       "      <td>...</td>\n",
       "      <td>0.0</td>\n",
       "      <td>1.0</td>\n",
       "      <td>0.0</td>\n",
       "      <td>5.0</td>\n",
       "      <td>1.0</td>\n",
       "      <td>2017.0</td>\n",
       "      <td>5.0</td>\n",
       "      <td>NaN</td>\n",
       "      <td>0.0</td>\n",
       "      <td>0.0</td>\n",
       "    </tr>\n",
       "    <tr>\n",
       "      <th>1</th>\n",
       "      <td>b'1-10-2017-016-03'</td>\n",
       "      <td>1.0</td>\n",
       "      <td>1.0</td>\n",
       "      <td>11.0</td>\n",
       "      <td>75.0</td>\n",
       "      <td>157.0</td>\n",
       "      <td>72.0</td>\n",
       "      <td>2.0</td>\n",
       "      <td>8.0</td>\n",
       "      <td>1.0</td>\n",
       "      <td>...</td>\n",
       "      <td>0.0</td>\n",
       "      <td>1.0</td>\n",
       "      <td>0.0</td>\n",
       "      <td>4.0</td>\n",
       "      <td>3.0</td>\n",
       "      <td>2017.0</td>\n",
       "      <td>6.0</td>\n",
       "      <td>17.0</td>\n",
       "      <td>1.0</td>\n",
       "      <td>0.0</td>\n",
       "    </tr>\n",
       "    <tr>\n",
       "      <th>2</th>\n",
       "      <td>b'1-10-2017-017-03'</td>\n",
       "      <td>1.0</td>\n",
       "      <td>1.0</td>\n",
       "      <td>11.0</td>\n",
       "      <td>19.0</td>\n",
       "      <td>170.0</td>\n",
       "      <td>79.0</td>\n",
       "      <td>2.0</td>\n",
       "      <td>8.0</td>\n",
       "      <td>1.0</td>\n",
       "      <td>...</td>\n",
       "      <td>1.0</td>\n",
       "      <td>1.0</td>\n",
       "      <td>2.0</td>\n",
       "      <td>4.0</td>\n",
       "      <td>3.0</td>\n",
       "      <td>2017.0</td>\n",
       "      <td>5.0</td>\n",
       "      <td>30.0</td>\n",
       "      <td>1.0</td>\n",
       "      <td>0.0</td>\n",
       "    </tr>\n",
       "    <tr>\n",
       "      <th>3</th>\n",
       "      <td>b'1-10-2017-017-03'</td>\n",
       "      <td>2.0</td>\n",
       "      <td>1.0</td>\n",
       "      <td>11.0</td>\n",
       "      <td>47.0</td>\n",
       "      <td>163.0</td>\n",
       "      <td>104.0</td>\n",
       "      <td>2.0</td>\n",
       "      <td>8.0</td>\n",
       "      <td>1.0</td>\n",
       "      <td>...</td>\n",
       "      <td>1.0</td>\n",
       "      <td>1.0</td>\n",
       "      <td>2.0</td>\n",
       "      <td>4.0</td>\n",
       "      <td>3.0</td>\n",
       "      <td>2017.0</td>\n",
       "      <td>5.0</td>\n",
       "      <td>21.0</td>\n",
       "      <td>1.0</td>\n",
       "      <td>0.0</td>\n",
       "    </tr>\n",
       "    <tr>\n",
       "      <th>4</th>\n",
       "      <td>b'1-10-2017-020-03'</td>\n",
       "      <td>2.0</td>\n",
       "      <td>1.0</td>\n",
       "      <td>11.0</td>\n",
       "      <td>59.0</td>\n",
       "      <td>157.0</td>\n",
       "      <td>113.0</td>\n",
       "      <td>2.0</td>\n",
       "      <td>8.0</td>\n",
       "      <td>1.0</td>\n",
       "      <td>...</td>\n",
       "      <td>1.0</td>\n",
       "      <td>1.0</td>\n",
       "      <td>2.0</td>\n",
       "      <td>4.0</td>\n",
       "      <td>4.0</td>\n",
       "      <td>2017.0</td>\n",
       "      <td>4.0</td>\n",
       "      <td>9.0</td>\n",
       "      <td>1.0</td>\n",
       "      <td>0.0</td>\n",
       "    </tr>\n",
       "    <tr>\n",
       "      <th>...</th>\n",
       "      <td>...</td>\n",
       "      <td>...</td>\n",
       "      <td>...</td>\n",
       "      <td>...</td>\n",
       "      <td>...</td>\n",
       "      <td>...</td>\n",
       "      <td>...</td>\n",
       "      <td>...</td>\n",
       "      <td>...</td>\n",
       "      <td>...</td>\n",
       "      <td>...</td>\n",
       "      <td>...</td>\n",
       "      <td>...</td>\n",
       "      <td>...</td>\n",
       "      <td>...</td>\n",
       "      <td>...</td>\n",
       "      <td>...</td>\n",
       "      <td>...</td>\n",
       "      <td>...</td>\n",
       "      <td>...</td>\n",
       "      <td>...</td>\n",
       "    </tr>\n",
       "    <tr>\n",
       "      <th>5275</th>\n",
       "      <td>b'1-77-2022-009-03'</td>\n",
       "      <td>2.0</td>\n",
       "      <td>1.0</td>\n",
       "      <td>11.0</td>\n",
       "      <td>24.0</td>\n",
       "      <td>178.0</td>\n",
       "      <td>77.0</td>\n",
       "      <td>2.0</td>\n",
       "      <td>8.0</td>\n",
       "      <td>1.0</td>\n",
       "      <td>...</td>\n",
       "      <td>0.0</td>\n",
       "      <td>1.0</td>\n",
       "      <td>0.0</td>\n",
       "      <td>4.0</td>\n",
       "      <td>2.0</td>\n",
       "      <td>2022.0</td>\n",
       "      <td>5.0</td>\n",
       "      <td>NaN</td>\n",
       "      <td>0.0</td>\n",
       "      <td>1.0</td>\n",
       "    </tr>\n",
       "    <tr>\n",
       "      <th>5276</th>\n",
       "      <td>b'1-77-2022-036-03'</td>\n",
       "      <td>1.0</td>\n",
       "      <td>1.0</td>\n",
       "      <td>11.0</td>\n",
       "      <td>19.0</td>\n",
       "      <td>188.0</td>\n",
       "      <td>91.0</td>\n",
       "      <td>1.0</td>\n",
       "      <td>8.0</td>\n",
       "      <td>1.0</td>\n",
       "      <td>...</td>\n",
       "      <td>1.0</td>\n",
       "      <td>1.0</td>\n",
       "      <td>2.0</td>\n",
       "      <td>4.0</td>\n",
       "      <td>4.0</td>\n",
       "      <td>2022.0</td>\n",
       "      <td>4.0</td>\n",
       "      <td>15.0</td>\n",
       "      <td>4.0</td>\n",
       "      <td>1.0</td>\n",
       "    </tr>\n",
       "    <tr>\n",
       "      <th>5277</th>\n",
       "      <td>b'1-77-2022-086-04'</td>\n",
       "      <td>1.0</td>\n",
       "      <td>1.0</td>\n",
       "      <td>11.0</td>\n",
       "      <td>24.0</td>\n",
       "      <td>157.0</td>\n",
       "      <td>50.0</td>\n",
       "      <td>2.0</td>\n",
       "      <td>8.0</td>\n",
       "      <td>1.0</td>\n",
       "      <td>...</td>\n",
       "      <td>1.0</td>\n",
       "      <td>1.0</td>\n",
       "      <td>2.0</td>\n",
       "      <td>4.0</td>\n",
       "      <td>10.0</td>\n",
       "      <td>2022.0</td>\n",
       "      <td>7.0</td>\n",
       "      <td>34.0</td>\n",
       "      <td>1.0</td>\n",
       "      <td>0.0</td>\n",
       "    </tr>\n",
       "    <tr>\n",
       "      <th>5278</th>\n",
       "      <td>b'1-77-2022-089-04'</td>\n",
       "      <td>2.0</td>\n",
       "      <td>1.0</td>\n",
       "      <td>11.0</td>\n",
       "      <td>59.0</td>\n",
       "      <td>185.0</td>\n",
       "      <td>91.0</td>\n",
       "      <td>1.0</td>\n",
       "      <td>8.0</td>\n",
       "      <td>1.0</td>\n",
       "      <td>...</td>\n",
       "      <td>1.0</td>\n",
       "      <td>1.0</td>\n",
       "      <td>2.0</td>\n",
       "      <td>4.0</td>\n",
       "      <td>11.0</td>\n",
       "      <td>2022.0</td>\n",
       "      <td>6.0</td>\n",
       "      <td>14.0</td>\n",
       "      <td>4.0</td>\n",
       "      <td>1.0</td>\n",
       "    </tr>\n",
       "    <tr>\n",
       "      <th>5279</th>\n",
       "      <td>b'1-77-2022-101-06'</td>\n",
       "      <td>2.0</td>\n",
       "      <td>1.0</td>\n",
       "      <td>11.0</td>\n",
       "      <td>37.0</td>\n",
       "      <td>163.0</td>\n",
       "      <td>55.0</td>\n",
       "      <td>2.0</td>\n",
       "      <td>8.0</td>\n",
       "      <td>1.0</td>\n",
       "      <td>...</td>\n",
       "      <td>0.0</td>\n",
       "      <td>1.0</td>\n",
       "      <td>0.0</td>\n",
       "      <td>1.0</td>\n",
       "      <td>12.0</td>\n",
       "      <td>2022.0</td>\n",
       "      <td>7.0</td>\n",
       "      <td>NaN</td>\n",
       "      <td>0.0</td>\n",
       "      <td>1.0</td>\n",
       "    </tr>\n",
       "  </tbody>\n",
       "</table>\n",
       "<p>5280 rows × 280 columns</p>\n",
       "</div>"
      ],
      "text/plain": [
       "               CASENUMBER  VEHNO  OCCNO  SEATLOC   AGE  HEIGHT  WEIGHT  SEX  \\\n",
       "0     b'1-10-2017-003-09'    1.0    1.0     11.0  30.0   170.0    93.0  4.0   \n",
       "1     b'1-10-2017-016-03'    1.0    1.0     11.0  75.0   157.0    72.0  2.0   \n",
       "2     b'1-10-2017-017-03'    1.0    1.0     11.0  19.0   170.0    79.0  2.0   \n",
       "3     b'1-10-2017-017-03'    2.0    1.0     11.0  47.0   163.0   104.0  2.0   \n",
       "4     b'1-10-2017-020-03'    2.0    1.0     11.0  59.0   157.0   113.0  2.0   \n",
       "...                   ...    ...    ...      ...   ...     ...     ...  ...   \n",
       "5275  b'1-77-2022-009-03'    2.0    1.0     11.0  24.0   178.0    77.0  2.0   \n",
       "5276  b'1-77-2022-036-03'    1.0    1.0     11.0  19.0   188.0    91.0  1.0   \n",
       "5277  b'1-77-2022-086-04'    1.0    1.0     11.0  24.0   157.0    50.0  2.0   \n",
       "5278  b'1-77-2022-089-04'    2.0    1.0     11.0  59.0   185.0    91.0  1.0   \n",
       "5279  b'1-77-2022-101-06'    2.0    1.0     11.0  37.0   163.0    55.0  2.0   \n",
       "\n",
       "      FETALMORT  ROLE  ...  Traffic Condition  Pre-event Location  \\\n",
       "0           0.0   1.0  ...                0.0                 1.0   \n",
       "1           8.0   1.0  ...                0.0                 1.0   \n",
       "2           8.0   1.0  ...                1.0                 1.0   \n",
       "3           8.0   1.0  ...                1.0                 1.0   \n",
       "4           8.0   1.0  ...                1.0                 1.0   \n",
       "...         ...   ...  ...                ...                 ...   \n",
       "5275        8.0   1.0  ...                0.0                 1.0   \n",
       "5276        8.0   1.0  ...                1.0                 1.0   \n",
       "5277        8.0   1.0  ...                1.0                 1.0   \n",
       "5278        8.0   1.0  ...                1.0                 1.0   \n",
       "5279        8.0   1.0  ...                0.0                 1.0   \n",
       "\n",
       "      Traffic Conrtol Functioning  Crash Type  month    year  Day in Week  \\\n",
       "0                             0.0         5.0    1.0  2017.0          5.0   \n",
       "1                             0.0         4.0    3.0  2017.0          6.0   \n",
       "2                             2.0         4.0    3.0  2017.0          5.0   \n",
       "3                             2.0         4.0    3.0  2017.0          5.0   \n",
       "4                             2.0         4.0    4.0  2017.0          4.0   \n",
       "...                           ...         ...    ...     ...          ...   \n",
       "5275                          0.0         4.0    2.0  2022.0          5.0   \n",
       "5276                          2.0         4.0    4.0  2022.0          4.0   \n",
       "5277                          2.0         4.0   10.0  2022.0          7.0   \n",
       "5278                          2.0         4.0   11.0  2022.0          6.0   \n",
       "5279                          0.0         1.0   12.0  2022.0          7.0   \n",
       "\n",
       "      delta v  delta v confidence level  Body Category  \n",
       "0         NaN                       0.0            0.0  \n",
       "1        17.0                       1.0            0.0  \n",
       "2        30.0                       1.0            0.0  \n",
       "3        21.0                       1.0            0.0  \n",
       "4         9.0                       1.0            0.0  \n",
       "...       ...                       ...            ...  \n",
       "5275      NaN                       0.0            1.0  \n",
       "5276     15.0                       4.0            1.0  \n",
       "5277     34.0                       1.0            0.0  \n",
       "5278     14.0                       4.0            1.0  \n",
       "5279      NaN                       0.0            1.0  \n",
       "\n",
       "[5280 rows x 280 columns]"
      ]
     },
     "execution_count": 21,
     "metadata": {},
     "output_type": "execute_result"
    }
   ],
   "source": [
    "data_dropna = data_with_selection.copy(deep=True).dropna(subset=dropna_cols)\n",
    "# data_dropna = data_dropna[wanted_features]\n",
    "data_dropna.reset_index(drop=True, inplace=True)\n",
    "data_dropna"
   ]
  },
  {
   "cell_type": "code",
   "execution_count": 22,
   "id": "866646db",
   "metadata": {
    "ExecuteTime": {
     "end_time": "2024-06-12T09:20:50.825589Z",
     "start_time": "2024-06-12T09:20:50.794268Z"
    }
   },
   "outputs": [
    {
     "name": "stdout",
     "output_type": "stream",
     "text": [
      "MAIS ___ 1.0\n",
      "Body Category ___ 1.0\n",
      "Model Year ___ 1.0\n",
      "Curb Weight ___ 1.0\n",
      "premovement before collision ___ 1.0\n",
      "Maneuver before collision ___ 0.849\n",
      "Clock-form Direction of force ___ 1.0\n",
      "Alcohol Present ___ 0.857\n",
      "Distracted in Driving ___ 0.78\n",
      "Sex ___ 1.0\n",
      "Age ___ 1.0\n",
      "height ___ 1.0\n",
      "weight ___ 1.0\n",
      "Race ___ 1.0\n",
      "Speed Limit ___ 1.0\n",
      "Related to Intersection ___ 1.0\n",
      "Traffic Flow Situation ___ 1.0\n",
      "Number of lanes ___ 1.0\n",
      "Alignment of Road ___ 1.0\n",
      "Uphill or Downhill ___ 1.0\n",
      "Surface Type ___ 1.0\n",
      "Surface Condition ___ 1.0\n",
      "Lighting Condition ___ 1.0\n",
      "Climate ___ 1.0\n",
      "Traffic Condition ___ 1.0\n",
      "Pre-event Location ___ 1.0\n",
      "Traffic Conrtol Functioning ___ 1.0\n",
      "Crash Type ___ 1.0\n",
      "month ___ 1.0\n",
      "year ___ 1.0\n",
      "Day in Week ___ 1.0\n",
      "delta v ___ 0.776\n",
      "delta v confidence level ___ 1.0\n"
     ]
    }
   ],
   "source": [
    "for col in wanted_features:\n",
    "    print(col, '___', round(sum(data_dropna[col].value_counts()) / len(data_dropna), 3))"
   ]
  },
  {
   "cell_type": "markdown",
   "id": "ecf1cc04",
   "metadata": {
    "heading_collapsed": true
   },
   "source": [
    "# 补充说明\n",
    "\n",
    "- 以下的筛选均基于第一轮筛选（即最开始筛去nan）\n",
    "* 如果根本不使用maneuver的话是不是就没有筛它的必要啊？！ \n",
    "    * 0307:没筛！\n",
    "\n",
    "* 是否喝酒也根据是否使用去进行筛选！ \n",
    "    * 0307：没筛！\n",
    "    \n",
    "    \n",
    "- 0308: 对齐两边数据并且完成初步数据集作成"
   ]
  },
  {
   "cell_type": "code",
   "execution_count": null,
   "id": "fa8459cd",
   "metadata": {
    "ExecuteTime": {
     "end_time": "2024-04-11T01:52:12.407100Z",
     "start_time": "2024-04-11T01:52:12.394269Z"
    },
    "hidden": true
   },
   "outputs": [],
   "source": [
    "nass_feas = set([\n",
    "    'MAIS', 'Other Veh Body Category', 'Body Category',\n",
    "    'Other Veh Clock-form Direction of force', 'Other Veh TRAVELSP',\n",
    "    'Other Veh premovement before collision', 'Model Year', 'Curb Weight',\n",
    "    'Travel Speed', 'premovement before collision',\n",
    "    'Maneuver before collision', 'Clock-form Direction of force',\n",
    "    'Alcohol Present', 'Distracted in Driving', 'Sex', 'Age', 'height',\n",
    "    'weight', 'Speed Limit', 'Related to Intersection',\n",
    "    'Traffic Flow Situation', 'Number of lanes', 'Alignment of Road',\n",
    "    'Uphill or Downhill', 'Surface Type', 'Surface Condition',\n",
    "    'Lighting Condition', 'Climate', 'Traffic Condition', 'Pre-event Location',\n",
    "    'Traffic Conrtol Functioning', 'Crash Type', 'month', 'year', 'Day in Week'\n",
    "])\n",
    "\n",
    "ciss_feas = set(data_dropna.columns)\n",
    "\n",
    "nass_feas - ciss_feas"
   ]
  },
  {
   "cell_type": "markdown",
   "id": "80952edb",
   "metadata": {},
   "source": [
    "# 保存数据"
   ]
  },
  {
   "cell_type": "code",
   "execution_count": 23,
   "id": "9eec6df3",
   "metadata": {
    "ExecuteTime": {
     "end_time": "2024-06-12T09:21:09.777275Z",
     "start_time": "2024-06-12T09:21:09.086680Z"
    }
   },
   "outputs": [],
   "source": [
    "data_dropna.to_csv(os.path.join(os.path.dirname(os.curdir),\n",
    "                                'CreatedData/CISS/',\n",
    "                                OUTPUT_FILE + '_dropna.csv'),\n",
    "                   encoding='utf-8')"
   ]
  },
  {
   "cell_type": "code",
   "execution_count": 24,
   "id": "7f18052d",
   "metadata": {
    "ExecuteTime": {
     "end_time": "2024-06-12T09:21:43.137722Z",
     "start_time": "2024-06-12T09:21:41.786175Z"
    }
   },
   "outputs": [],
   "source": [
    "data_with_selection.to_csv(os.path.join(os.path.dirname(\n",
    "    os.curdir), 'CreatedData/CISS/', OUTPUT_FILE + '_NoDropAllFeatures.csv'),\n",
    "                           encoding='utf-8')"
   ]
  },
  {
   "cell_type": "code",
   "execution_count": 25,
   "id": "4123047c",
   "metadata": {
    "ExecuteTime": {
     "end_time": "2024-06-12T09:21:47.283647Z",
     "start_time": "2024-06-12T09:21:47.267840Z"
    }
   },
   "outputs": [
    {
     "data": {
      "text/plain": [
       "0       1098.361402\n",
       "1        207.980576\n",
       "2        176.573624\n",
       "3        176.573624\n",
       "4        405.610229\n",
       "           ...     \n",
       "5275     321.810619\n",
       "5276     644.040510\n",
       "5277    4911.585968\n",
       "5278     994.960746\n",
       "5279    3380.364729\n",
       "Name: CASEWGT, Length: 5280, dtype: float64"
      ]
     },
     "execution_count": 25,
     "metadata": {},
     "output_type": "execute_result"
    }
   ],
   "source": [
    "data_dropna['CASEWGT']"
   ]
  },
  {
   "cell_type": "code",
   "execution_count": null,
   "id": "749e1017",
   "metadata": {},
   "outputs": [],
   "source": []
  }
 ],
 "metadata": {
  "kernelspec": {
   "display_name": "Python 3 (ipykernel)",
   "language": "python",
   "name": "python3"
  },
  "language_info": {
   "codemirror_mode": {
    "name": "ipython",
    "version": 3
   },
   "file_extension": ".py",
   "mimetype": "text/x-python",
   "name": "python",
   "nbconvert_exporter": "python",
   "pygments_lexer": "ipython3",
   "version": "3.9.18"
  },
  "toc": {
   "base_numbering": 1,
   "nav_menu": {},
   "number_sections": true,
   "sideBar": true,
   "skip_h1_title": false,
   "title_cell": "Table of Contents",
   "title_sidebar": "Contents",
   "toc_cell": false,
   "toc_position": {},
   "toc_section_display": true,
   "toc_window_display": false
  },
  "varInspector": {
   "cols": {
    "lenName": 16,
    "lenType": 16,
    "lenVar": 40
   },
   "kernels_config": {
    "python": {
     "delete_cmd_postfix": "",
     "delete_cmd_prefix": "del ",
     "library": "var_list.py",
     "varRefreshCmd": "print(var_dic_list())"
    },
    "r": {
     "delete_cmd_postfix": ") ",
     "delete_cmd_prefix": "rm(",
     "library": "var_list.r",
     "varRefreshCmd": "cat(var_dic_list()) "
    }
   },
   "types_to_exclude": [
    "module",
    "function",
    "builtin_function_or_method",
    "instance",
    "_Feature"
   ],
   "window_display": false
  }
 },
 "nbformat": 4,
 "nbformat_minor": 5
}
