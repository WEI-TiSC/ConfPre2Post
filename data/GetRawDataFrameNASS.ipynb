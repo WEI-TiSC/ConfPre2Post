{
 "cells": [
  {
   "cell_type": "markdown",
   "id": "d10b886c",
   "metadata": {
    "ExecuteTime": {
     "end_time": "2024-02-20T02:38:19.041642Z",
     "start_time": "2024-02-20T02:38:16.472079Z"
    }
   },
   "source": [
    "# 事前准备\n",
    "\n",
    "- 0612: 先不获取对方数据"
   ]
  },
  {
   "cell_type": "code",
   "execution_count": 1,
   "id": "cad8afcf",
   "metadata": {
    "ExecuteTime": {
     "end_time": "2024-06-12T09:22:19.529202Z",
     "start_time": "2024-06-12T09:22:19.230552Z"
    }
   },
   "outputs": [],
   "source": [
    "import pandas as pd\n",
    "import numpy as np\n",
    "import os, time, math\n",
    "import collections"
   ]
  },
  {
   "cell_type": "code",
   "execution_count": 2,
   "id": "79252745",
   "metadata": {
    "ExecuteTime": {
     "end_time": "2024-06-12T09:22:19.937498Z",
     "start_time": "2024-06-12T09:22:19.921868Z"
    }
   },
   "outputs": [],
   "source": [
    "OUTPUT_FILE = 'NASS_CDS_20240612'"
   ]
  },
  {
   "cell_type": "code",
   "execution_count": 4,
   "id": "052435dd",
   "metadata": {
    "ExecuteTime": {
     "end_time": "2024-06-12T09:22:25.842268Z",
     "start_time": "2024-06-12T09:22:25.826246Z"
    }
   },
   "outputs": [],
   "source": [
    "cur_dir = os.getcwd()\n",
    "relative_data_dir = os.path.join(cur_dir, 'raw_data', 'NASS_CISS_data', 'NASS_CDS_raw')"
   ]
  },
  {
   "cell_type": "markdown",
   "id": "1dd31d6e",
   "metadata": {
    "ExecuteTime": {
     "end_time": "2024-02-20T05:01:17.483718Z",
     "start_time": "2024-02-20T05:01:17.447998Z"
    }
   },
   "source": [
    "# 数据读入"
   ]
  },
  {
   "cell_type": "code",
   "execution_count": 5,
   "id": "e6d093f1",
   "metadata": {
    "ExecuteTime": {
     "end_time": "2024-06-12T09:22:28.246169Z",
     "start_time": "2024-06-12T09:22:26.863431Z"
    },
    "scrolled": true
   },
   "outputs": [
    {
     "name": "stdout",
     "output_type": "stream",
     "text": [
      "Extracting table: accident...\n",
      "\n",
      "Extracting table: event...\n",
      "\n",
      "Extracting table: ve...\n",
      "\n",
      "Extracting table: oa...\n",
      "\n",
      "Extracting table: gv...\n",
      "\n",
      "Extracting table: oi...\n",
      "\n"
     ]
    },
    {
     "data": {
      "text/plain": [
       "56102"
      ]
     },
     "execution_count": 5,
     "metadata": {},
     "output_type": "execute_result"
    }
   ],
   "source": [
    "wanted_table_list = ['accident', 'event', 've', 'oa', 'gv', 'oi']\n",
    "# oi, vi 暂无有用信息；event应该也没有但为了表连接先用上\n",
    "\n",
    "raw_data = dict()  # 存储几种表格（按年份分开） -- {table: {year: data}}\n",
    "\n",
    "for table in wanted_table_list:\n",
    "    print('Extracting table: %s...\\n' % table)\n",
    "    raw_data[table] = dict()\n",
    "    for year in range(\n",
    "            2009, 2016\n",
    "    ):  # 新旧AIS差别导致08以前的数据没有AIS15记载，故从10年开始使用数据 *注：可以尝试查看08以前的数据如何转换！\n",
    "        raw_data[table][year] = pd.read_sas(\n",
    "            os.path.join(relative_data_dir, str(year), 'FormattedData',\n",
    "                         '%s.sas7bdat' % table))\n",
    "        raw_data[table][year] = raw_data[table][year].dropna(\n",
    "            how='all', axis=1)  # 删除全部为空值的列\n",
    "\n",
    "count_init_length = 0\n",
    "merge_centre = 'oa'\n",
    "for year in range(2009, 2016):\n",
    "    count_init_length += len(raw_data[merge_centre][year])\n",
    "count_init_length"
   ]
  },
  {
   "cell_type": "markdown",
   "id": "b63e91fd",
   "metadata": {
    "ExecuteTime": {
     "end_time": "2024-02-20T05:23:04.619666Z",
     "start_time": "2024-02-20T05:23:04.609646Z"
    }
   },
   "source": [
    "# CASEID数据为byte需要进行编码,同时统合每年数据到一起"
   ]
  },
  {
   "cell_type": "code",
   "execution_count": 6,
   "id": "7c371c09",
   "metadata": {
    "ExecuteTime": {
     "end_time": "2024-06-12T09:22:30.741222Z",
     "start_time": "2024-06-12T09:22:29.768736Z"
    }
   },
   "outputs": [],
   "source": [
    "raw_allyear_merged = dict()\n",
    "\n",
    "for table in wanted_table_list:\n",
    "    raw_allyear_merged[table] = pd.DataFrame()\n",
    "    for year in range(2009, 2016):\n",
    "        raw_data[table][year]['CASEID'] = raw_data[table][year][\n",
    "            'CASEID'].str.decode('utf-8')\n",
    "        \n",
    "        raw_data[table][year]['CASENUMBER'] = str(\n",
    "            year) + '_' + raw_data[table][year]['PSU'].astype(int).astype(\n",
    "                str) + '_' + raw_data[table][year]['CASEID'].astype(str)  # 特征CASENUMBER = year_PSU_CASEID，用于表的连接\n",
    "        \n",
    "        raw_data[table][year]['YEAR'] = year\n",
    "        \n",
    "        raw_allyear_merged[table] = pd.concat([raw_allyear_merged[table], raw_data[table][year]])\n",
    "        raw_allyear_merged[table].reset_index(inplace=True, drop=True)\n",
    "        \n",
    "    raw_allyear_merged[table] = raw_allyear_merged[table].dropna(how='all', axis=1)\n",
    "        "
   ]
  },
  {
   "cell_type": "markdown",
   "id": "ba2fc0f4",
   "metadata": {},
   "source": [
    "# 删除重复列"
   ]
  },
  {
   "cell_type": "code",
   "execution_count": 7,
   "id": "6a344189",
   "metadata": {
    "ExecuteTime": {
     "end_time": "2024-06-12T09:22:32.280508Z",
     "start_time": "2024-06-12T09:22:31.944369Z"
    }
   },
   "outputs": [
    {
     "name": "stdout",
     "output_type": "stream",
     "text": [
      "Delete duplicate column: YEAR from table: event\n",
      "Delete duplicate column: PSU from table: event\n",
      "Delete duplicate column: CASEID from table: event\n",
      "Delete duplicate column: CASENO from table: event\n",
      "Delete duplicate column: VERSION from table: event\n",
      "Delete duplicate column: STRATIF from table: event\n",
      "Delete duplicate column: RATWGT from table: event\n",
      "Delete duplicate column: YEAR from table: ve\n",
      "Delete duplicate column: PSU from table: ve\n",
      "Delete duplicate column: CASEID from table: ve\n",
      "Delete duplicate column: CASENO from table: ve\n",
      "Delete duplicate column: VERSION from table: ve\n",
      "Delete duplicate column: STRATIF from table: ve\n",
      "Delete duplicate column: RATWGT from table: ve\n",
      "Delete duplicate column: YEAR from table: oa\n",
      "Delete duplicate column: PSU from table: oa\n",
      "Delete duplicate column: CASEID from table: oa\n",
      "Delete duplicate column: CASENO from table: oa\n",
      "Delete duplicate column: VERSION from table: oa\n",
      "Delete duplicate column: STRATIF from table: oa\n",
      "Delete duplicate column: RATWGT from table: oa\n",
      "Delete duplicate column: YEAR from table: gv\n",
      "Delete duplicate column: PSU from table: gv\n",
      "Delete duplicate column: CASEID from table: gv\n",
      "Delete duplicate column: CASENO from table: gv\n",
      "Delete duplicate column: VERSION from table: gv\n",
      "Delete duplicate column: STRATIF from table: gv\n",
      "Delete duplicate column: RATWGT from table: gv\n",
      "Delete duplicate column: YEAR from table: oi\n",
      "Delete duplicate column: PSU from table: oi\n",
      "Delete duplicate column: CASEID from table: oi\n",
      "Delete duplicate column: CASENO from table: oi\n",
      "Delete duplicate column: VERSION from table: oi\n",
      "Delete duplicate column: STRATIF from table: oi\n",
      "Delete duplicate column: RATWGT from table: oi\n",
      "Duplicate removed\n"
     ]
    }
   ],
   "source": [
    "duplicate_cols = [\n",
    "    'YEAR', 'PSU', 'CASEID', 'CASENO', 'VERSION', 'STRATIF', 'RATWGT'\n",
    "]\n",
    "\n",
    "for table in wanted_table_list:\n",
    "    if table != 'accident':\n",
    "        for col in duplicate_cols:\n",
    "            if col in raw_allyear_merged[table]:\n",
    "                print(\"Delete duplicate column: %s from table: %s\" %\n",
    "                      (col, table))\n",
    "                raw_allyear_merged[table] = raw_allyear_merged[table].drop(\n",
    "                    columns=[col])\n",
    "print('Duplicate removed')"
   ]
  },
  {
   "cell_type": "code",
   "execution_count": 8,
   "id": "7910c1be",
   "metadata": {
    "ExecuteTime": {
     "end_time": "2024-06-12T09:22:33.646484Z",
     "start_time": "2024-06-12T09:22:33.632385Z"
    }
   },
   "outputs": [
    {
     "name": "stdout",
     "output_type": "stream",
     "text": [
      "CASENUMBER\n",
      "VEHNO\n",
      "OCCNO\n"
     ]
    }
   ],
   "source": [
    "# 检查处理后的重复列，使用CASENUMBER和VEHNO进行结合！\n",
    "\n",
    "duplicate_dict = collections.defaultdict(int)\n",
    "\n",
    "for table in wanted_table_list:\n",
    "    for col in raw_allyear_merged[table].columns:\n",
    "        duplicate_dict[col] += 1\n",
    "\n",
    "for key, val in duplicate_dict.items():\n",
    "    if val > 1:\n",
    "        print(key)"
   ]
  },
  {
   "cell_type": "markdown",
   "id": "706a84cb",
   "metadata": {},
   "source": [
    "# 以oa为中心结合 - gv为另一侧 (两方都未与oi结合！)"
   ]
  },
  {
   "cell_type": "code",
   "execution_count": 9,
   "id": "74eaa23a",
   "metadata": {
    "ExecuteTime": {
     "end_time": "2024-06-12T09:22:35.326313Z",
     "start_time": "2024-06-12T09:22:34.918234Z"
    }
   },
   "outputs": [],
   "source": [
    "merge_key = {\n",
    "    'accident': ['CASENUMBER'],\n",
    "    'event': ['CASENUMBER'],\n",
    "    'gv': ['CASENUMBER', 'VEHNO'],\n",
    "    've': ['CASENUMBER', 'VEHNO'],\n",
    "    'oa': ['CASENUMBER', 'VEHNO', 'OCCNO']\n",
    "}\n",
    "\n",
    "ego_data = raw_allyear_merged['oa'].copy(deep=True)\n",
    "other_data = raw_allyear_merged['gv'].copy(deep=True)\n",
    "\n",
    "for table in ['accident', 've']:\n",
    "    ego_data = pd.merge(ego_data, raw_allyear_merged[table], on=merge_key[table], how='left')\n",
    "    other_data = pd.merge(other_data, raw_allyear_merged[table], on=merge_key[table], how='left')\n",
    "for table in ['gv']:\n",
    "    ego_data = pd.merge(ego_data, raw_allyear_merged[table], on=merge_key[table], how='inner')\n",
    "\n",
    "ego_data.reset_index(drop=True, inplace=True)\n",
    "other_data.reset_index(drop=True, inplace=True)"
   ]
  },
  {
   "cell_type": "markdown",
   "id": "60ffadd2",
   "metadata": {
    "ExecuteTime": {
     "end_time": "2024-02-20T06:07:50.775322Z",
     "start_time": "2024-02-20T06:07:50.769815Z"
    }
   },
   "source": [
    "# 重构AISCODE2008 - AISCODE2015映射"
   ]
  },
  {
   "cell_type": "code",
   "execution_count": 10,
   "id": "2a3c398f",
   "metadata": {
    "ExecuteTime": {
     "end_time": "2024-06-12T09:22:39.144017Z",
     "start_time": "2024-06-12T09:22:36.802525Z"
    },
    "code_folding": [
     10,
     18,
     26,
     36,
     46
    ]
   },
   "outputs": [],
   "source": [
    "REG = raw_allyear_merged['oi']['REGION08']\n",
    "TYP = raw_allyear_merged['oi']['STRTYP08']\n",
    "SPC = raw_allyear_merged['oi']['STRSPC08']\n",
    "LVL = raw_allyear_merged['oi']['INJLVL08']\n",
    "AIS = raw_allyear_merged['oi']['AIS08']\n",
    "\n",
    "reconstruct_length = len(raw_allyear_merged['oi'].index)\n",
    "\n",
    "# 重构AIS08的各个部分\n",
    "REG_list = [0] * reconstruct_length\n",
    "for i in REG.index:\n",
    "    temp = np.nan\n",
    "    if REG[i] >= 0:\n",
    "        temp = str(int(REG[i]))\n",
    "    REG_list[i] = temp\n",
    "REG = pd.Series(REG_list)\n",
    "\n",
    "TYP_list = [0] * reconstruct_length\n",
    "for i in TYP.index:\n",
    "    temp = np.nan\n",
    "    if TYP[i] >= 0:\n",
    "        temp = str(int(TYP[i]))\n",
    "    TYP_list[i] = temp\n",
    "TYP = pd.Series(TYP_list)\n",
    "\n",
    "SPC_list = [0] * reconstruct_length\n",
    "for i in SPC.index:\n",
    "    temp = np.nan\n",
    "    if SPC[i] >= 10:\n",
    "        temp = str(int(SPC[i]))\n",
    "    if SPC[i] < 10:\n",
    "        temp = \"0\" + str(int(SPC[i]))\n",
    "    SPC_list[i] = temp\n",
    "SPC = pd.Series(SPC_list)\n",
    "\n",
    "LVL_list = [0] * reconstruct_length\n",
    "for i in LVL.index:\n",
    "    temp = np.nan\n",
    "    if LVL[i] >= 10:\n",
    "        temp = str(int(LVL[i]))\n",
    "    if LVL[i] < 10:\n",
    "        temp = \"0\" + str(int(LVL[i]))\n",
    "    LVL_list[i] = temp\n",
    "LVL = pd.Series(LVL_list)\n",
    "\n",
    "AIS_list = [0] * reconstruct_length\n",
    "for i in AIS.index:\n",
    "    temp = np.nan\n",
    "    if AIS[i] >= 0 and AIS[i] < 7:\n",
    "        temp = \".\" + str(int(AIS[i]))\n",
    "    AIS_list[i] = temp\n",
    "AIS = pd.Series(AIS_list)\n",
    "\n",
    "raw_allyear_merged['oi']['AISCODE08'] = REG + TYP + SPC + LVL + AIS\n",
    "raw_allyear_merged['oi'] = raw_allyear_merged['oi'].dropna(\n",
    "    subset=['AISCODE08'])"
   ]
  },
  {
   "cell_type": "markdown",
   "id": "2499459f",
   "metadata": {
    "ExecuteTime": {
     "end_time": "2024-02-22T04:21:54.589781Z",
     "start_time": "2024-02-22T04:21:54.572255Z"
    }
   },
   "source": [
    "## AIS08 -> AIS15映射"
   ]
  },
  {
   "cell_type": "code",
   "execution_count": 11,
   "id": "851eec6d",
   "metadata": {
    "ExecuteTime": {
     "end_time": "2024-06-12T09:22:40.164497Z",
     "start_time": "2024-06-12T09:22:40.148602Z"
    },
    "code_folding": [
     0
    ]
   },
   "outputs": [],
   "source": [
    "reflect_ais08_ais15=[\n",
    "    [\"630604.3\",\"630603.2\"],\n",
    "    [\"640201.3\",\"610201.2\"],\n",
    "    [\"640202.3\",\"610202.2\"],\n",
    "    [\"640401.3\",\"610401.2\"],\n",
    "    [\"640402.3\",\"610402.2\"],\n",
    "    [\"640601.3\",\"610601.2\"],\n",
    "    [\"640602.3\",\"610602.2\"],\n",
    "    [\"640240.5\",\"610299.1\"],\n",
    "    [\"640640.5\",\"610699.1\"],\n",
    "    [\"240904.2\",\"240999.1\"],\n",
    "    [\"640200.3\",\"610299.1\"],\n",
    "    [\"640400.3\",\"610499.1\"],\n",
    "    [\"640440.3\",\"610499.1\"],\n",
    "    [\"640600.3\",\"610699.1\"],\n",
    "    [\"131699.2\",\"230407.3\"],\n",
    "    [\"540822.2\",\"540823.3\"],\n",
    "    [\"541422.2\",\"541423.3\"],\n",
    "    [\"543622.2\",\"543623.3\"],\n",
    "    [\"650230.2\",\"650236.3\"],\n",
    "    [\"650430.2\",\"650436.3\"],\n",
    "    [\"650630.2\",\"650636.3\"],\n",
    "    [\"545299.1\",\"545216.4\"],\n",
    "    [\"545299.1\",\"545214.3\"],\n",
    "    [\"243099.1\",\"243406.2\"],\n",
    "    [\"251800.1\",\"251816.2\"],\n",
    "    [\"545299.1\",\"545212.2\"],\n",
    "    [\"874099.1\",\"874036.2\"],\n",
    "    [\"131699.2\",\"230499.1\"],\n",
    "    [\"350200.2\",\"350230.1\"],\n",
    "    [\"200099.9\",\"213000.4\"],\n",
    "    [\"200099.9\",\"250620.3\"],\n",
    "    [\"500099.9\",\"513000.6\"],\n",
    "    [\"500099.9\",\"513002.6\"],\n",
    "    [\"730099.9\",\"730199.1\"],\n",
    "    [\"730099.9\",\"730102.1\"],\n",
    "    [\"730099.9\",\"730104.2\"],\n",
    "    [\"730099.9\",\"730106.2\"],\n",
    "    [\"740099.9\",\"740899.1\"],\n",
    "    [\"740099.9\",\"740699.1\"],\n",
    "    [\"840099.9\",\"840699.1\"],\n",
    "    [\"840099.9\",\"840700.1\"],\n",
    "    [\"840099.9\",\"840899.1\"],\n",
    "    [\"541021.2\",\"541021.3\"],\n",
    "    [\"650208.2\",\"650208.3\"],\n",
    "    [\"713000.2\",\"713000.3\"],\n",
    "    [\"751101.2\",\"751101.3\"],\n",
    "    [\"751112.2\",\"751112.3\"],\n",
    "    [\"751152.2\",\"751152.3\"],\n",
    "    [\"751222.2\",\"751222.3\"],\n",
    "    [\"751252.2\",\"751252.3\"],\n",
    "    [\"751332.2\",\"751332.3\"],\n",
    "    [\"751352.2\",\"751352.3\"],\n",
    "    [\"751801.2\",\"751801.3\"],\n",
    "    [\"751901.2\",\"751901.3\"],\n",
    "    [\"752112.2\",\"752112.3\"],\n",
    "    [\"752114.2\",\"752114.3\"],\n",
    "    [\"752152.2\",\"752152.3\"],\n",
    "    [\"752154.2\",\"752154.3\"],\n",
    "    [\"752212.2\",\"752212.3\"],\n",
    "    [\"752214.2\",\"752214.3\"],\n",
    "    [\"752252.2\",\"752252.3\"],\n",
    "    [\"752254.2\",\"752254.3\"],\n",
    "    [\"752312.2\",\"752312.3\"],\n",
    "    [\"752314.2\",\"752314.3\"],\n",
    "    [\"752352.2\",\"752352.3\"],\n",
    "    [\"752354.2\",\"752354.3\"],\n",
    "    [\"752801.2\",\"752801.3\"],\n",
    "    [\"753201.2\",\"753201.3\"],\n",
    "    [\"630600.3\",\"630600.2\"],\n",
    "    [\"630602.3\",\"630602.2\"],\n",
    "    [\"630604.3\",\"630604.2\"],\n",
    "    [\"630606.3\",\"630606.2\"],\n",
    "    [\"630608.3\",\"630608.2\"],\n",
    "    [\"630610.3\",\"630610.2\"],\n",
    "    [\"440099.9\",\"440099.1\"],\n",
    "    [\"740099.9\",\"740099.1\"],\n",
    "    [\"840099.9\",\"840099.1\"],\n",
    "    [\"650218.2\",\"650218.1\"],\n",
    "    [\"650220.2\",\"650220.1\"],\n",
    "    [\"650418.2\",\"650418.1\"],\n",
    "    [\"650420.2\",\"650420.1\"],\n",
    "    [\"650618.2\",\"650618.1\"],\n",
    "    [\"650620.2\",\"650620.1\"],\n",
    "    [\"161000.1\",\"161000.2\"],\n",
    "    [\"161001.1\",\"161001.2\"],\n",
    "]"
   ]
  },
  {
   "cell_type": "code",
   "execution_count": 12,
   "id": "44ed5ff4",
   "metadata": {
    "ExecuteTime": {
     "end_time": "2024-06-12T09:22:41.153392Z",
     "start_time": "2024-06-12T09:22:41.137806Z"
    }
   },
   "outputs": [],
   "source": [
    "aiscode_reflect = dict()\n",
    "for i, key_val_list in enumerate(reflect_ais08_ais15):\n",
    "    key, val = key_val_list[0],  key_val_list[1]\n",
    "    if key not in aiscode_reflect:\n",
    "        aiscode_reflect[key] = val\n",
    "    else:\n",
    "        # 看伤害部位！！！\n",
    "        region_1 = aiscode_reflect.get(key)[0]\n",
    "        region_2 = val[0]\n",
    "        if region_1 == region_2:  # 同部位直接看AIS\n",
    "            ais_1 = aiscode_reflect.get(key)[7]\n",
    "            ais_2 = val[7]\n",
    "            if ais_1 <= ais_2:\n",
    "                aiscode_reflect[key] = val\n",
    "        else:\n",
    "            print(\"Regoin differs in AIS2015 and AIS2008 as %s -> %s\" % (key, val))\n",
    "        "
   ]
  },
  {
   "cell_type": "code",
   "execution_count": 13,
   "id": "c50ee158",
   "metadata": {
    "ExecuteTime": {
     "end_time": "2024-06-12T09:23:02.245850Z",
     "start_time": "2024-06-12T09:22:42.393476Z"
    }
   },
   "outputs": [],
   "source": [
    "raw_allyear_merged['oi']['AISCODE15'] = raw_allyear_merged['oi'][\n",
    "    'AISCODE08'].copy(deep=True)\n",
    "\n",
    "for ais08, ais15 in aiscode_reflect.items():\n",
    "    raw_allyear_merged['oi'].loc[raw_allyear_merged['oi']['AISCODE08'] ==\n",
    "                                 ais08, 'AISCODE15'] = ais15\n",
    "    \n",
    "for i in raw_allyear_merged['oi'].index:\n",
    "    code = raw_allyear_merged['oi'].loc[i, 'AISCODE15']\n",
    "    # 重构ais15各项以及重伤度\n",
    "    raw_allyear_merged['oi'].loc[i, 'REGION15'] = int(code[0])\n",
    "    raw_allyear_merged['oi'].loc[i, 'STRTYP15'] = int(code[1])    \n",
    "    raw_allyear_merged['oi'].loc[i, 'STRSPC15'] = int(code[2:4])    \n",
    "    raw_allyear_merged['oi'].loc[i, 'INJLVL15'] = int(code[4:6])\n",
    "    \n",
    "    raw_allyear_merged['oi'].loc[i, 'AIS15'] = int(code[7])\n",
    "    "
   ]
  },
  {
   "cell_type": "markdown",
   "id": "1ed86db9",
   "metadata": {},
   "source": [
    "# 合并并只留下 AIS 最大受伤数据 \n",
    "\n",
    "* oi的缺省值较多？！"
   ]
  },
  {
   "cell_type": "code",
   "execution_count": 14,
   "id": "23de4958",
   "metadata": {
    "ExecuteTime": {
     "end_time": "2024-06-12T09:23:04.647387Z",
     "start_time": "2024-06-12T09:23:04.474239Z"
    }
   },
   "outputs": [],
   "source": [
    "oi = raw_allyear_merged['oi'].dropna(subset=['AISCODE15'])\n",
    "oi_MAIS = oi.sort_values('AIS15', ascending=False).drop_duplicates(\n",
    "    subset=['CASENUMBER', 'VEHNO', 'OCCNO'])\n",
    "\n",
    "ego_data = pd.merge(ego_data, oi_MAIS, on=\n",
    "                   ['CASENUMBER', 'VEHNO', 'OCCNO'], how='left')"
   ]
  },
  {
   "cell_type": "code",
   "execution_count": 15,
   "id": "cae8fa4a",
   "metadata": {
    "ExecuteTime": {
     "end_time": "2024-06-12T09:23:11.715566Z",
     "start_time": "2024-06-12T09:23:05.951162Z"
    }
   },
   "outputs": [],
   "source": [
    "ego_data['MAIS15'] =ego_data['AIS15'].copy(deep=True)\n",
    "\n",
    "ego_data['MAISchange'] = 0\n",
    "for i in ego_data.index:\n",
    "    mais_08, mais_15 = ego_data.loc[i, 'MAIS08'], ego_data.loc[i, 'MAIS15']\n",
    "    if mais_08 != mais_15 and mais_08 == mais_08 and mais_15 == mais_15:\n",
    "        if mais_08 < mais_15:\n",
    "            ego_data.loc[i, 'MAISchange'] = 1  # 表示变大了！\n",
    "        else:\n",
    "            ego_data.loc[i, 'MAISchange'] = -1  # 表示变小！\n",
    "    if mais_15 != mais_15:\n",
    "        ego_data.loc[i, 'MAIS15'] = mais_08\n",
    "            "
   ]
  },
  {
   "cell_type": "code",
   "execution_count": 16,
   "id": "601dc1ea",
   "metadata": {
    "ExecuteTime": {
     "end_time": "2024-06-12T09:23:25.396670Z",
     "start_time": "2024-06-12T09:23:25.367127Z"
    },
    "scrolled": true
   },
   "outputs": [
    {
     "data": {
      "text/plain": [
       "MAISchange\n",
       " 0    55670\n",
       " 1      398\n",
       "-1       34\n",
       "Name: count, dtype: int64"
      ]
     },
     "execution_count": 16,
     "metadata": {},
     "output_type": "execute_result"
    }
   ],
   "source": [
    "ego_data['MAISchange'].value_counts()"
   ]
  },
  {
   "cell_type": "code",
   "execution_count": 17,
   "id": "2c0f141a",
   "metadata": {
    "ExecuteTime": {
     "end_time": "2024-06-12T09:23:26.181434Z",
     "start_time": "2024-06-12T09:23:26.165591Z"
    }
   },
   "outputs": [
    {
     "data": {
      "text/plain": [
       "MAIS\n",
       "0.0    13687\n",
       "1.0    10995\n",
       "2.0     2717\n",
       "3.0     1600\n",
       "7.0     1336\n",
       "4.0      671\n",
       "5.0      406\n",
       "6.0      193\n",
       "Name: count, dtype: int64"
      ]
     },
     "execution_count": 17,
     "metadata": {},
     "output_type": "execute_result"
    }
   ],
   "source": [
    "ego_data['MAIS'].value_counts()"
   ]
  },
  {
   "cell_type": "markdown",
   "id": "64f4b09d",
   "metadata": {},
   "source": [
    "# 处理特征\n",
    "\n"
   ]
  },
  {
   "cell_type": "markdown",
   "id": "2d20ad33",
   "metadata": {},
   "source": [
    "## 特征名对应"
   ]
  },
  {
   "cell_type": "code",
   "execution_count": 18,
   "id": "b131e6f2",
   "metadata": {
    "ExecuteTime": {
     "end_time": "2024-06-12T09:23:30.342822Z",
     "start_time": "2024-06-12T09:23:30.327489Z"
    }
   },
   "outputs": [],
   "source": [
    "factor_list_nass = {\n",
    "    'vehicle': {\n",
    "        'MODELYR': 'Model Year',\n",
    "        'CURBWGT': 'Curb Weight',  # 要用吗？？？  - 原本整备质量为记录值 * 10 （整备质量：裸车装满油不算乘员的质量）\n",
    "#         'TRAVELSP': 'Travel Speed',\n",
    "        'PREMOVE': 'premovement before collision',  # -- 还需要检查如何分类！\n",
    "        'MANEUVER': 'Maneuver before collision',  # -- 还需要检查如何分类！\n",
    "        'PDOF1': 'Clock-form Direction of force',\n",
    "        'BODYTYPE': 'Body Type',\n",
    "#         'otbdytyp': 'Body Type of the other vehicle'  # 对方车辆情报\n",
    "    },\n",
    "    'driver': {\n",
    "        'DRPRES': 'Driver Present',  # 用于筛选\n",
    "        'DRINKING': 'Alcohol Present',\n",
    "        # 'DRUGS': 'Drug Present',\n",
    "        'DRIVDIST': 'Distracted in Driving',  # 大于3的都是各种分心\n",
    "        'SEX': 'Sex',  # 3~6 为怀孕 （时间越长编号越大）\n",
    "        'AGE': 'Age',\n",
    "        'HEIGHT': 'height',\n",
    "        'WEIGHT': 'weight',\n",
    "        'RACE': 'Race'  # 0612追加   ---  更新：欠缺值太多了，怎么办哇！\n",
    "    },\n",
    "    'environment': {\n",
    "        'SPLIMIT': 'Speed Limit',  # 0为无速度限制 -- 换成大值！-- 还需要检查如何分类！\n",
    "        'RELINTER': 'Related to Intersection',\n",
    "        'TRAFFLOW': 'Traffic Flow Situation',\n",
    "        'LANES': 'Number of lanes',\n",
    "        'ALIGNMNT': 'Alignment of Road',\n",
    "        'PROFILE': 'Uphill or Downhill',  # 用吗？\n",
    "        'SURTYPE': 'Surface Type',  # 用于筛选-- 还需要检查如何分类！\n",
    "        'SURCOND': 'Surface Condition',  # 路面条件，用吗？-- 还需要检查如何分类！\n",
    "        'LGTCOND': 'Lighting Condition',\n",
    "        'CLIMATE': 'Climate',  # -- 还需要检查如何分类！\n",
    "        'TRAFCONT': 'Traffic Condition',  # 是否有学校等减速，用吗？  -- 还需要检查如何分类！\n",
    "        # 'PREEVENT': 'Pre-crash Event', # 事故前事件，用吗？  -- 还需要检查如何分类！\n",
    "        'PREILOC': 'Pre-event Location',\n",
    "        'TRCTLFCT': 'Traffic Conrtol Functioning',\n",
    "        'MANCOLL': 'Crash Type'  # 引用硕士研究说明这个东西可以被预测！  -  coding & editing manual 里有更详细分类\n",
    "    },\n",
    "    'time series': {\n",
    "        'MONTH': 'month',\n",
    "        'YEAR': 'year',\n",
    "        'DAYWEEK': 'Day in Week'\n",
    "    },\n",
    "    'post crash': {\n",
    "        'DVTOTAL': 'delta v',  # 0612追加 （for compare）\n",
    "        'DVCONFID': 'delta v confidence level'\n",
    "    }\n",
    "}"
   ]
  },
  {
   "cell_type": "code",
   "execution_count": 19,
   "id": "be802ab2",
   "metadata": {
    "ExecuteTime": {
     "end_time": "2024-06-12T09:23:31.803590Z",
     "start_time": "2024-06-12T09:23:31.787844Z"
    }
   },
   "outputs": [
    {
     "name": "stdout",
     "output_type": "stream",
     "text": [
      "No factor missed!\n",
      "Feature number is: 33\n"
     ]
    }
   ],
   "source": [
    "included = 1\n",
    "feature_count = 0\n",
    "\n",
    "for cate, features in factor_list_nass.items():\n",
    "    for factor in features.keys():\n",
    "        feature_count += 1\n",
    "        if factor not in ego_data.columns:\n",
    "            print('No existance! %s' %factor)\n",
    "            included = 0\n",
    "\n",
    "if included:\n",
    "    print('No factor missed!')\n",
    "print('Feature number is: %s' %feature_count)"
   ]
  },
  {
   "cell_type": "markdown",
   "id": "e4e30531",
   "metadata": {
    "ExecuteTime": {
     "end_time": "2024-03-13T04:30:59.655240Z",
     "start_time": "2024-03-13T04:30:59.644732Z"
    }
   },
   "source": [
    "MANCOLL：\n",
    " - 0: No Collision\n",
    " - 1: REAR END (20-43)\n",
    " - 2: HEAD ON (50-63)\n",
    " - 4: ANGLE (68-91)\n",
    " - 5: SIDESWIPE, SAME DIRECTION (44-49)\n",
    " - 6: SIDESWIPE, OPPOSITE DIRECTION (64-67)\\\n",
    " - 9: UNKNOWN"
   ]
  },
  {
   "cell_type": "markdown",
   "id": "74c7f5d2",
   "metadata": {
    "ExecuteTime": {
     "end_time": "2024-02-27T03:45:12.322827Z",
     "start_time": "2024-02-27T03:45:12.302396Z"
    }
   },
   "source": [
    "## 处理非nan缺失值\n",
    "\n"
   ]
  },
  {
   "cell_type": "code",
   "execution_count": 20,
   "id": "6816da8a",
   "metadata": {
    "ExecuteTime": {
     "end_time": "2024-06-12T09:23:35.632885Z",
     "start_time": "2024-06-12T09:23:35.507465Z"
    }
   },
   "outputs": [],
   "source": [
    "deal_ego = ego_data.copy(deep=True)\n",
    "# deal_other = other_data.copy(deep=True)"
   ]
  },
  {
   "cell_type": "code",
   "execution_count": 27,
   "id": "e9f29c6b",
   "metadata": {
    "ExecuteTime": {
     "end_time": "2024-06-12T09:25:05.429789Z",
     "start_time": "2024-06-12T09:25:05.414451Z"
    }
   },
   "outputs": [
    {
     "data": {
      "text/plain": [
       "166.0"
      ]
     },
     "execution_count": 27,
     "metadata": {},
     "output_type": "execute_result"
    }
   ],
   "source": [
    "max(ego_data['DVTOTAL'])"
   ]
  },
  {
   "cell_type": "code",
   "execution_count": 22,
   "id": "8435918c",
   "metadata": {
    "ExecuteTime": {
     "end_time": "2024-06-12T09:23:45.931282Z",
     "start_time": "2024-06-12T09:23:45.915651Z"
    }
   },
   "outputs": [],
   "source": [
    "nanlist_NASS = [\n",
    "    # vehicle\n",
    "    ['MODELYR', 9999],\n",
    "    ['CURBWGT', 999999],\n",
    "#     ['TRAVELSP', 777],\n",
    "#     ['TRAVELSP', 999],\n",
    "    ['PREMOVE', 99],\n",
    "    ['PREMOVE', 98],\n",
    "    ['MANEUVER', 98],\n",
    "    ['MANEUVER', 99],\n",
    "#     ['otbdytyp', 98],\n",
    "    ['BODYTYPE', 99],\n",
    "    ['PDOF1', 998],\n",
    "\n",
    "    # driver\n",
    "    ['DRPRES', 9],\n",
    "    ['DRINKING', 7],\n",
    "    ['DRINKING', 8],\n",
    "    ['DRINKING', 9],\n",
    "    ['SEX', 9],\n",
    "    ['HEIGHT', 999],\n",
    "    ['WEIGHT', 999],\n",
    "    ['AGE', 999],\n",
    "    ['RACE', 7],\n",
    "    ['RACE', 8],\n",
    "\n",
    "    # environment\n",
    "    ['SPLIMIT', 999],\n",
    "    ['RELINTER', 9],\n",
    "    ['TRAFFLOW', 9],\n",
    "    ['LANES', 9],\n",
    "    ['ALIGNMNT', 9],\n",
    "    ['PROFILE', 9],\n",
    "    ['SURTYPE', 8],\n",
    "    ['SURTYPE', 9],\n",
    "    ['SURCOND', 88],\n",
    "    ['SURCOND', 99],\n",
    "    ['LGTCOND', 9],\n",
    "    ['CLIMATE', 98],\n",
    "    ['CLIMATE', 99],\n",
    "    ['TRAFCONT', 9],\n",
    "    ['PREILOC', 9],\n",
    "    ['MANCOLL', 0],\n",
    "    ['MANCOLL', 9],\n",
    "    \n",
    "    # Compare\n",
    "    ['DVTOTAL', 888],\n",
    "    ['DVTOTAL', 999]\n",
    "]"
   ]
  },
  {
   "cell_type": "code",
   "execution_count": 23,
   "id": "7728ee85",
   "metadata": {
    "ExecuteTime": {
     "end_time": "2024-06-12T09:23:47.375048Z",
     "start_time": "2024-06-12T09:23:47.327962Z"
    }
   },
   "outputs": [
    {
     "name": "stdout",
     "output_type": "stream",
     "text": [
      "The table 1 got null at feature MANEUVER before processing: 24595 and after processing it got: 162 more\n",
      "The table 1 got null at feature PDOF1 before processing: 15112 and after processing it got: 3499 more\n",
      "The table 1 got null at feature DRINKING before processing: 2320 and after processing it got: 1577 more\n",
      "The table 1 got null at feature DRINKING before processing: 3897 and after processing it got: 14 more\n",
      "The table 1 got null at feature RACE before processing: 26271 and after processing it got: 382 more\n",
      "The table 1 got null at feature RACE before processing: 26653 and after processing it got: 14 more\n",
      "The table 1 got null at feature SURTYPE before processing: 8 and after processing it got: 87 more\n",
      "The table 1 got null at feature SURCOND before processing: 102 and after processing it got: 20 more\n",
      "The table 1 got null at feature CLIMATE before processing: 232 and after processing it got: 99 more\n",
      "The table 1 got null at feature MANCOLL before processing: 1235 and after processing it got: 15282 more\n"
     ]
    }
   ],
   "source": [
    "# for i, data in enumerate([deal_ego, deal_other]):\n",
    "for i, data in enumerate([deal_ego]):\n",
    "    for target in nanlist_NASS:\n",
    "        if target[0] in data:\n",
    "            initial_nan = data[target[0]].isnull().sum()\n",
    "            data.loc[data[target[0]] == target[1], target[0]] = np.nan\n",
    "            processed = data[target[0]].isnull().sum()\n",
    "            if processed != initial_nan:\n",
    "                print(\n",
    "                    \"The table %s got null at feature %s before processing: %s and after processing it got: %s more\"\n",
    "                    % (i+1, target[0], initial_nan, processed - initial_nan))\n",
    "            "
   ]
  },
  {
   "cell_type": "code",
   "execution_count": 28,
   "id": "c697f4b8",
   "metadata": {
    "ExecuteTime": {
     "end_time": "2024-06-12T09:25:11.471258Z",
     "start_time": "2024-06-12T09:25:11.439789Z"
    }
   },
   "outputs": [],
   "source": [
    "# for data in [deal_ego, deal_other]:\n",
    "for data in [deal_ego]:\n",
    "    for category in factor_list_nass.keys():\n",
    "        for old_name, new_name in factor_list_nass.get(category).items():\n",
    "            if old_name in data.columns:\n",
    "                data[new_name] = data[old_name]"
   ]
  },
  {
   "cell_type": "markdown",
   "id": "9be180e7",
   "metadata": {
    "ExecuteTime": {
     "end_time": "2024-02-27T05:06:08.034680Z",
     "start_time": "2024-02-27T05:06:08.032093Z"
    }
   },
   "source": [
    "## Curb Weight还原 & 分车种 -- 获取自己以及对方的Body Category"
   ]
  },
  {
   "cell_type": "code",
   "execution_count": 29,
   "id": "43237efe",
   "metadata": {
    "ExecuteTime": {
     "end_time": "2024-06-12T09:25:13.402032Z",
     "start_time": "2024-06-12T09:25:13.370142Z"
    }
   },
   "outputs": [],
   "source": [
    "# for data in [deal_ego, deal_other]:\n",
    "for data in [deal_ego]:\n",
    "    data['Curb Weight'] = data['Curb Weight'] * 10\n",
    "\n",
    "#     for prev_col, new_col in zip(['BODYTYPE', 'otbdytyp'],\n",
    "#                                  ['Body Category', 'Other Veh Body Category']):\n",
    "    for prev_col, new_col in zip(['BODYTYPE'], ['Body Category']):\n",
    "        data.loc[(data[prev_col] <= 9) | (data[prev_col] == 11) |\n",
    "                 (data[prev_col] == 12) | (data[prev_col] == 17),\n",
    "                 new_col] = 0  #Sedan\n",
    "        data.loc[((data[prev_col] >= 14) & (data[prev_col] <= 16)) |\n",
    "                 (data[prev_col] == 19), new_col] = 1  #SUV\n",
    "        data.loc[((data[prev_col] >= 20) & (data[prev_col] <= 29)) |\n",
    "                 (data[prev_col] == 60), new_col] = 2  #Van\n",
    "        data.loc[(data[prev_col] == 10) | ((data[prev_col] >= 30) &\n",
    "                                           (data[prev_col] <= 39)) |\n",
    "                 (data[prev_col] == 74), new_col] = 3  #Pickup"
   ]
  },
  {
   "cell_type": "code",
   "execution_count": 30,
   "id": "0970c62b",
   "metadata": {
    "ExecuteTime": {
     "end_time": "2024-06-12T09:25:14.954643Z",
     "start_time": "2024-06-12T09:25:14.938976Z"
    }
   },
   "outputs": [
    {
     "data": {
      "text/plain": [
       "56038"
      ]
     },
     "execution_count": 30,
     "metadata": {},
     "output_type": "execute_result"
    }
   ],
   "source": [
    "sum(deal_ego['Body Category'].value_counts())"
   ]
  },
  {
   "cell_type": "markdown",
   "id": "883e2580",
   "metadata": {},
   "source": [
    "## 对于可以预见的事故，获取对方信息"
   ]
  },
  {
   "cell_type": "code",
   "execution_count": null,
   "id": "f552f347",
   "metadata": {
    "ExecuteTime": {
     "end_time": "2024-06-12T05:21:47.359429Z",
     "start_time": "2024-06-12T05:21:46.890713Z"
    }
   },
   "outputs": [],
   "source": [
    "# other_col_list = ['Clock-form Direction of force', 'TRAVELSP', 'premovement before collision']\n",
    "\n",
    "# df_other = deal_other.copy(deep=True).drop_duplicates(subset=['CASENUMBER', 'VEHNO'] + other_col_list)\n",
    "\n",
    "# df_other['VEHNO'] = df_other['OBJCONT1']\n",
    "# new_col_list = []\n",
    "# for col in other_col_list:\n",
    "#     ocol = 'Other Veh '+ col\n",
    "#     df_other[ocol] = df_other[col]\n",
    "#     new_col_list.append(ocol)\n",
    "# df_other = df_other[new_col_list + ['CASENUMBER', 'VEHNO']]\n",
    "# data_with_oinfo = pd.merge(deal_ego, df_other, how='left', on=['CASENUMBER', 'VEHNO'])\n",
    "# data_with_oinfo = data_with_oinfo.dropna(subset=['MAIS'])\n"
   ]
  },
  {
   "cell_type": "code",
   "execution_count": null,
   "id": "9191fe23",
   "metadata": {
    "ExecuteTime": {
     "end_time": "2024-06-12T05:21:48.047003Z",
     "start_time": "2024-06-12T05:21:48.019088Z"
    }
   },
   "outputs": [],
   "source": [
    "# tmp = data_with_oinfo\n",
    "# for col in new_col_list:\n",
    "#     print(col, round(1 - len(tmp[col].dropna()) / len(tmp), 3))\n",
    "    "
   ]
  },
  {
   "cell_type": "markdown",
   "id": "be2a93ba",
   "metadata": {},
   "source": [
    "## 数据筛选"
   ]
  },
  {
   "cell_type": "code",
   "execution_count": 31,
   "id": "b8f4927b",
   "metadata": {
    "ExecuteTime": {
     "end_time": "2024-06-12T09:25:20.982719Z",
     "start_time": "2024-06-12T09:25:20.967446Z"
    }
   },
   "outputs": [],
   "source": [
    "query_conditions = [\n",
    "    'VEHFORMS == 2',  # 两车相撞\n",
    "    'MANEUVER != 0',  # 有驾驶员\n",
    "    'ROLE == 1',  # 指定驾驶员\n",
    "    'BODYTYPE < 80 & BODYTYPE != 13',  # 车辆类型限定\n",
    "    'PREMOVE != 0',  # 有驾驶员\n",
    "    'DRIVDIST != 0',  # 同上\n",
    "    'AGE >= 15',  # 法律上\n",
    "    'PREILOC != 0',\n",
    "    'MAIS < 7'\n",
    "]"
   ]
  },
  {
   "cell_type": "code",
   "execution_count": 32,
   "id": "a97bfce7",
   "metadata": {
    "ExecuteTime": {
     "end_time": "2024-06-12T09:25:23.634974Z",
     "start_time": "2024-06-12T09:25:22.975944Z"
    }
   },
   "outputs": [
    {
     "name": "stdout",
     "output_type": "stream",
     "text": [
      "VEHFORMS == 2: cases: 56102 before -> 33389 left. True ratio: 0.0601\n",
      "MANEUVER != 0: cases: 33389 before -> 33380 left. True ratio: 0.0601\n",
      "ROLE == 1: cases: 33380 before -> 22298 left. True ratio: 0.0616\n",
      "BODYTYPE < 80 & BODYTYPE != 13: cases: 22298 before -> 22298 left. True ratio: 0.0616\n",
      "PREMOVE != 0: cases: 22298 before -> 22298 left. True ratio: 0.0616\n",
      "DRIVDIST != 0: cases: 22298 before -> 22298 left. True ratio: 0.0616\n",
      "AGE >= 15: cases: 22298 before -> 21999 left. True ratio: 0.0621\n",
      "PREILOC != 0: cases: 21999 before -> 21999 left. True ratio: 0.0621\n",
      "MAIS < 7: cases: 21999 before -> 12359 left. True ratio: 0.0706\n"
     ]
    }
   ],
   "source": [
    "# data_with_selection = data_with_oinfo.copy(deep=True)\n",
    "data_with_selection = deal_ego.copy(deep=True)\n",
    "\n",
    "for que in query_conditions:\n",
    "    prev_len = len(data_with_selection)\n",
    "    data_with_selection = data_with_selection.query(que)\n",
    "    print('%s: cases: %s before -> %s left. True ratio: %s' %\n",
    "          (que, prev_len, len(data_with_selection),\n",
    "           int(len(data_with_selection.query('MAIS > 2')) / len(data_with_selection)*10000) / 10000))\n",
    "data_with_selection.reset_index(drop=True, inplace=True)"
   ]
  },
  {
   "cell_type": "code",
   "execution_count": null,
   "id": "9bb82dcb",
   "metadata": {
    "ExecuteTime": {
     "end_time": "2024-06-12T05:22:37.712823Z",
     "start_time": "2024-06-12T05:22:37.697175Z"
    }
   },
   "outputs": [],
   "source": [
    "# for oinfo in new_col_list:\n",
    "#     print('Info name: %s, Valid oinfo case: %s, with ratio: %s' %(\n",
    "#         oinfo, \n",
    "#         sum(data_with_selection[oinfo].value_counts()), \n",
    "#         sum(data_with_selection[oinfo].value_counts()) / len(data_with_selection))\n",
    "#         )\n",
    "    \n",
    "# Travel Speed差太多了！！！"
   ]
  },
  {
   "cell_type": "markdown",
   "id": "4ea5c666",
   "metadata": {},
   "source": [
    "## 提取需要的列"
   ]
  },
  {
   "cell_type": "code",
   "execution_count": 33,
   "id": "92d718be",
   "metadata": {
    "ExecuteTime": {
     "end_time": "2024-06-12T09:25:34.275047Z",
     "start_time": "2024-06-12T09:25:34.259824Z"
    }
   },
   "outputs": [
    {
     "data": {
      "text/plain": [
       "(['MAIS',\n",
       "  'Body Category',\n",
       "  'Model Year',\n",
       "  'Curb Weight',\n",
       "  'premovement before collision',\n",
       "  'Maneuver before collision',\n",
       "  'Clock-form Direction of force',\n",
       "  'Alcohol Present',\n",
       "  'Distracted in Driving',\n",
       "  'Sex',\n",
       "  'Age',\n",
       "  'height',\n",
       "  'weight',\n",
       "  'Race',\n",
       "  'Speed Limit',\n",
       "  'Related to Intersection',\n",
       "  'Traffic Flow Situation',\n",
       "  'Number of lanes',\n",
       "  'Alignment of Road',\n",
       "  'Uphill or Downhill',\n",
       "  'Surface Type',\n",
       "  'Surface Condition',\n",
       "  'Lighting Condition',\n",
       "  'Climate',\n",
       "  'Traffic Condition',\n",
       "  'Pre-event Location',\n",
       "  'Traffic Conrtol Functioning',\n",
       "  'Crash Type',\n",
       "  'month',\n",
       "  'year',\n",
       "  'Day in Week',\n",
       "  'delta v',\n",
       "  'delta v confidence level'],\n",
       " 33)"
      ]
     },
     "execution_count": 33,
     "metadata": {},
     "output_type": "execute_result"
    }
   ],
   "source": [
    "# wanted_features = [ 'MAIS', 'Other Veh Body Category', 'Body Category'] + new_col_list\n",
    "wanted_features = ['MAIS', 'Body Category']\n",
    "\n",
    "for cate in factor_list_nass.keys():\n",
    "    for sas_name, feature_name in factor_list_nass.get(cate).items():\n",
    "        if sas_name in ('BODYTYPE', 'otbdytyp', 'DRPRES'):\n",
    "            continue\n",
    "        wanted_features.append(feature_name)\n",
    "        \n",
    "wanted_features, len(wanted_features)\n"
   ]
  },
  {
   "cell_type": "code",
   "execution_count": 34,
   "id": "e61345aa",
   "metadata": {
    "ExecuteTime": {
     "end_time": "2024-06-12T09:25:38.089625Z",
     "start_time": "2024-06-12T09:25:38.057993Z"
    },
    "scrolled": true
   },
   "outputs": [
    {
     "name": "stdout",
     "output_type": "stream",
     "text": [
      "Info name: Maneuver before collision, Valid info case: 9118, with ratio: 0.738\n",
      "Info name: Clock-form Direction of force, Valid info case: 9295, with ratio: 0.752\n",
      "Info name: Distracted in Driving, Valid info case: 7804, with ratio: 0.631\n",
      "Info name: height, Valid info case: 9965, with ratio: 0.806\n",
      "Info name: weight, Valid info case: 10163, with ratio: 0.822\n",
      "Info name: Race, Valid info case: 9632, with ratio: 0.779\n",
      "Info name: Crash Type, Valid info case: 11519, with ratio: 0.932\n",
      "Info name: delta v, Valid info case: 7429, with ratio: 0.601\n"
     ]
    }
   ],
   "source": [
    "for info in wanted_features:\n",
    "    true_info_ratio = sum(data_with_selection[info].value_counts()) / len(data_with_selection)\n",
    "    if true_info_ratio < 0.95:\n",
    "        print('Info name: %s, Valid info case: %s, with ratio: %s' %(\n",
    "            info, \n",
    "            sum(data_with_selection[info].value_counts()), \n",
    "            round(true_info_ratio, 3)\n",
    "            ))\n",
    "        if true_info_ratio < 0.5:\n",
    "            print( \"*\" * 50, '\\n', info, 'Warining: 数据少一半以上！\\n', \"*\" * 50)\n",
    "    "
   ]
  },
  {
   "cell_type": "markdown",
   "id": "d2ac9e13",
   "metadata": {},
   "source": [
    "## 考虑到预测时候可能不需要Maneuver因为太接近事故发生，所以dropna时候就不drop它！\n",
    "\n",
    "dropna时不drop的属性： MANEUVER, , ALCOHOL, DRIVDIST, DV"
   ]
  },
  {
   "cell_type": "markdown",
   "id": "7ff9cfc4",
   "metadata": {},
   "source": [
    "## dropna过程"
   ]
  },
  {
   "cell_type": "code",
   "execution_count": 35,
   "id": "d0ee0c8c",
   "metadata": {
    "ExecuteTime": {
     "end_time": "2024-06-12T09:25:42.797967Z",
     "start_time": "2024-06-12T09:25:42.766776Z"
    }
   },
   "outputs": [
    {
     "data": {
      "text/plain": [
       "['Traffic Conrtol Functioning',\n",
       " 'Body Category',\n",
       " 'Surface Condition',\n",
       " 'month',\n",
       " 'year',\n",
       " 'Surface Type',\n",
       " 'Lighting Condition',\n",
       " 'premovement before collision',\n",
       " 'Number of lanes',\n",
       " 'MAIS',\n",
       " 'Climate',\n",
       " 'Age',\n",
       " 'Related to Intersection',\n",
       " 'Crash Type',\n",
       " 'Uphill or Downhill',\n",
       " 'height',\n",
       " 'Model Year',\n",
       " 'Curb Weight',\n",
       " 'Race',\n",
       " 'Sex',\n",
       " 'Traffic Condition',\n",
       " 'Alignment of Road',\n",
       " 'Clock-form Direction of force',\n",
       " 'Pre-event Location',\n",
       " 'weight',\n",
       " 'Speed Limit',\n",
       " 'Day in Week',\n",
       " 'Traffic Flow Situation']"
      ]
     },
     "execution_count": 35,
     "metadata": {},
     "output_type": "execute_result"
    }
   ],
   "source": [
    "no_dropna_cols = [\n",
    "    'Other Veh Clock-form Direction of force',\n",
    "    'Other Veh TRAVELSP',\n",
    "    'Other Veh premovement before collision',\n",
    "    'Travel Speed',\n",
    "    'Alcohol Present',\n",
    "    'Distracted in Driving',\n",
    "    'Maneuver before collision',\n",
    "    'Other Veh Body Category',\n",
    "    'delta v',\n",
    "    'delta v confidence level',\n",
    "    ]\n",
    "\n",
    "dropna_cols = list(set(wanted_features) - set(no_dropna_cols))\n",
    "dropna_cols\n"
   ]
  },
  {
   "cell_type": "code",
   "execution_count": 36,
   "id": "eac68738",
   "metadata": {
    "ExecuteTime": {
     "end_time": "2024-06-12T09:25:47.664021Z",
     "start_time": "2024-06-12T09:25:47.632401Z"
    },
    "scrolled": false
   },
   "outputs": [
    {
     "name": "stdout",
     "output_type": "stream",
     "text": [
      "12344 \t Traffic Conrtol Functioning\n",
      "12346 \t Body Category\n",
      "12340 \t Surface Condition\n",
      "12359 \t month\n",
      "12359 \t year\n",
      "12333 \t Surface Type\n",
      "12306 \t Lighting Condition\n",
      "12354 \t premovement before collision\n",
      "12358 \t Number of lanes\n",
      "12359 \t MAIS\n",
      "12300 \t Climate\n",
      "12359 \t Age\n",
      "12359 \t Related to Intersection\n",
      "11519 \t Crash Type\n",
      "12304 \t Uphill or Downhill\n",
      "9965 \t height\n",
      "12354 \t Model Year\n",
      "12177 \t Curb Weight\n",
      "9632 \t Race\n",
      "12359 \t Sex\n",
      "12355 \t Traffic Condition\n",
      "12359 \t Alignment of Road\n",
      "9295 \t Clock-form Direction of force\n",
      "12327 \t Pre-event Location\n",
      "10163 \t weight\n",
      "12221 \t Speed Limit\n",
      "12359 \t Day in Week\n",
      "12358 \t Traffic Flow Situation\n"
     ]
    }
   ],
   "source": [
    "for col in dropna_cols:\n",
    "    print(sum(data_with_selection[col].value_counts()), '\\t', col)"
   ]
  },
  {
   "cell_type": "code",
   "execution_count": 37,
   "id": "2f9279f7",
   "metadata": {
    "ExecuteTime": {
     "end_time": "2024-06-12T09:25:50.348161Z",
     "start_time": "2024-06-12T09:25:50.285605Z"
    }
   },
   "outputs": [
    {
     "data": {
      "text/html": [
       "<div>\n",
       "<style scoped>\n",
       "    .dataframe tbody tr th:only-of-type {\n",
       "        vertical-align: middle;\n",
       "    }\n",
       "\n",
       "    .dataframe tbody tr th {\n",
       "        vertical-align: top;\n",
       "    }\n",
       "\n",
       "    .dataframe thead th {\n",
       "        text-align: right;\n",
       "    }\n",
       "</style>\n",
       "<table border=\"1\" class=\"dataframe\">\n",
       "  <thead>\n",
       "    <tr style=\"text-align: right;\">\n",
       "      <th></th>\n",
       "      <th>ABELTAVL</th>\n",
       "      <th>ABELTUSE</th>\n",
       "      <th>ABELTYPE</th>\n",
       "      <th>ABLTFAIL</th>\n",
       "      <th>AGE</th>\n",
       "      <th>BAGAVAIL</th>\n",
       "      <th>BAGAVRPT</th>\n",
       "      <th>BAGDEPLY</th>\n",
       "      <th>BAGEVENT</th>\n",
       "      <th>BAGDAMAG</th>\n",
       "      <th>...</th>\n",
       "      <th>Traffic Condition</th>\n",
       "      <th>Pre-event Location</th>\n",
       "      <th>Traffic Conrtol Functioning</th>\n",
       "      <th>Crash Type</th>\n",
       "      <th>month</th>\n",
       "      <th>year</th>\n",
       "      <th>Day in Week</th>\n",
       "      <th>delta v</th>\n",
       "      <th>delta v confidence level</th>\n",
       "      <th>Body Category</th>\n",
       "    </tr>\n",
       "  </thead>\n",
       "  <tbody>\n",
       "    <tr>\n",
       "      <th>0</th>\n",
       "      <td>0.0</td>\n",
       "      <td>0.0</td>\n",
       "      <td>0.0</td>\n",
       "      <td>0.0</td>\n",
       "      <td>38.0</td>\n",
       "      <td>1.0</td>\n",
       "      <td>1.0</td>\n",
       "      <td>7.0</td>\n",
       "      <td>97.0</td>\n",
       "      <td>97.0</td>\n",
       "      <td>...</td>\n",
       "      <td>0.0</td>\n",
       "      <td>1.0</td>\n",
       "      <td>0.0</td>\n",
       "      <td>1.0</td>\n",
       "      <td>1.0</td>\n",
       "      <td>2009</td>\n",
       "      <td>4.0</td>\n",
       "      <td>NaN</td>\n",
       "      <td>0.0</td>\n",
       "      <td>3.0</td>\n",
       "    </tr>\n",
       "    <tr>\n",
       "      <th>1</th>\n",
       "      <td>0.0</td>\n",
       "      <td>0.0</td>\n",
       "      <td>0.0</td>\n",
       "      <td>0.0</td>\n",
       "      <td>65.0</td>\n",
       "      <td>1.0</td>\n",
       "      <td>2.0</td>\n",
       "      <td>1.0</td>\n",
       "      <td>1.0</td>\n",
       "      <td>1.0</td>\n",
       "      <td>...</td>\n",
       "      <td>1.0</td>\n",
       "      <td>1.0</td>\n",
       "      <td>2.0</td>\n",
       "      <td>4.0</td>\n",
       "      <td>2.0</td>\n",
       "      <td>2009</td>\n",
       "      <td>7.0</td>\n",
       "      <td>32.0</td>\n",
       "      <td>1.0</td>\n",
       "      <td>3.0</td>\n",
       "    </tr>\n",
       "    <tr>\n",
       "      <th>2</th>\n",
       "      <td>0.0</td>\n",
       "      <td>0.0</td>\n",
       "      <td>0.0</td>\n",
       "      <td>0.0</td>\n",
       "      <td>43.0</td>\n",
       "      <td>1.0</td>\n",
       "      <td>1.0</td>\n",
       "      <td>1.0</td>\n",
       "      <td>1.0</td>\n",
       "      <td>1.0</td>\n",
       "      <td>...</td>\n",
       "      <td>0.0</td>\n",
       "      <td>1.0</td>\n",
       "      <td>0.0</td>\n",
       "      <td>6.0</td>\n",
       "      <td>1.0</td>\n",
       "      <td>2009</td>\n",
       "      <td>1.0</td>\n",
       "      <td>22.0</td>\n",
       "      <td>3.0</td>\n",
       "      <td>0.0</td>\n",
       "    </tr>\n",
       "    <tr>\n",
       "      <th>3</th>\n",
       "      <td>0.0</td>\n",
       "      <td>0.0</td>\n",
       "      <td>0.0</td>\n",
       "      <td>0.0</td>\n",
       "      <td>49.0</td>\n",
       "      <td>1.0</td>\n",
       "      <td>2.0</td>\n",
       "      <td>1.0</td>\n",
       "      <td>1.0</td>\n",
       "      <td>1.0</td>\n",
       "      <td>...</td>\n",
       "      <td>0.0</td>\n",
       "      <td>1.0</td>\n",
       "      <td>0.0</td>\n",
       "      <td>4.0</td>\n",
       "      <td>1.0</td>\n",
       "      <td>2009</td>\n",
       "      <td>5.0</td>\n",
       "      <td>28.0</td>\n",
       "      <td>1.0</td>\n",
       "      <td>1.0</td>\n",
       "    </tr>\n",
       "    <tr>\n",
       "      <th>4</th>\n",
       "      <td>0.0</td>\n",
       "      <td>0.0</td>\n",
       "      <td>0.0</td>\n",
       "      <td>0.0</td>\n",
       "      <td>30.0</td>\n",
       "      <td>1.0</td>\n",
       "      <td>1.0</td>\n",
       "      <td>1.0</td>\n",
       "      <td>1.0</td>\n",
       "      <td>1.0</td>\n",
       "      <td>...</td>\n",
       "      <td>2.0</td>\n",
       "      <td>1.0</td>\n",
       "      <td>2.0</td>\n",
       "      <td>4.0</td>\n",
       "      <td>3.0</td>\n",
       "      <td>2009</td>\n",
       "      <td>7.0</td>\n",
       "      <td>23.0</td>\n",
       "      <td>1.0</td>\n",
       "      <td>1.0</td>\n",
       "    </tr>\n",
       "    <tr>\n",
       "      <th>...</th>\n",
       "      <td>...</td>\n",
       "      <td>...</td>\n",
       "      <td>...</td>\n",
       "      <td>...</td>\n",
       "      <td>...</td>\n",
       "      <td>...</td>\n",
       "      <td>...</td>\n",
       "      <td>...</td>\n",
       "      <td>...</td>\n",
       "      <td>...</td>\n",
       "      <td>...</td>\n",
       "      <td>...</td>\n",
       "      <td>...</td>\n",
       "      <td>...</td>\n",
       "      <td>...</td>\n",
       "      <td>...</td>\n",
       "      <td>...</td>\n",
       "      <td>...</td>\n",
       "      <td>...</td>\n",
       "      <td>...</td>\n",
       "      <td>...</td>\n",
       "    </tr>\n",
       "    <tr>\n",
       "      <th>6741</th>\n",
       "      <td>NaN</td>\n",
       "      <td>NaN</td>\n",
       "      <td>NaN</td>\n",
       "      <td>NaN</td>\n",
       "      <td>32.0</td>\n",
       "      <td>1.0</td>\n",
       "      <td>3.0</td>\n",
       "      <td>7.0</td>\n",
       "      <td>97.0</td>\n",
       "      <td>97.0</td>\n",
       "      <td>...</td>\n",
       "      <td>2.0</td>\n",
       "      <td>1.0</td>\n",
       "      <td>2.0</td>\n",
       "      <td>4.0</td>\n",
       "      <td>8.0</td>\n",
       "      <td>2015</td>\n",
       "      <td>1.0</td>\n",
       "      <td>15.0</td>\n",
       "      <td>1.0</td>\n",
       "      <td>0.0</td>\n",
       "    </tr>\n",
       "    <tr>\n",
       "      <th>6742</th>\n",
       "      <td>NaN</td>\n",
       "      <td>NaN</td>\n",
       "      <td>NaN</td>\n",
       "      <td>NaN</td>\n",
       "      <td>26.0</td>\n",
       "      <td>1.0</td>\n",
       "      <td>3.0</td>\n",
       "      <td>7.0</td>\n",
       "      <td>97.0</td>\n",
       "      <td>97.0</td>\n",
       "      <td>...</td>\n",
       "      <td>1.0</td>\n",
       "      <td>1.0</td>\n",
       "      <td>2.0</td>\n",
       "      <td>1.0</td>\n",
       "      <td>8.0</td>\n",
       "      <td>2015</td>\n",
       "      <td>5.0</td>\n",
       "      <td>12.0</td>\n",
       "      <td>4.0</td>\n",
       "      <td>0.0</td>\n",
       "    </tr>\n",
       "    <tr>\n",
       "      <th>6743</th>\n",
       "      <td>NaN</td>\n",
       "      <td>NaN</td>\n",
       "      <td>NaN</td>\n",
       "      <td>NaN</td>\n",
       "      <td>62.0</td>\n",
       "      <td>1.0</td>\n",
       "      <td>3.0</td>\n",
       "      <td>7.0</td>\n",
       "      <td>97.0</td>\n",
       "      <td>97.0</td>\n",
       "      <td>...</td>\n",
       "      <td>2.0</td>\n",
       "      <td>1.0</td>\n",
       "      <td>2.0</td>\n",
       "      <td>4.0</td>\n",
       "      <td>10.0</td>\n",
       "      <td>2015</td>\n",
       "      <td>6.0</td>\n",
       "      <td>19.0</td>\n",
       "      <td>1.0</td>\n",
       "      <td>1.0</td>\n",
       "    </tr>\n",
       "    <tr>\n",
       "      <th>6744</th>\n",
       "      <td>NaN</td>\n",
       "      <td>NaN</td>\n",
       "      <td>NaN</td>\n",
       "      <td>NaN</td>\n",
       "      <td>43.0</td>\n",
       "      <td>1.0</td>\n",
       "      <td>3.0</td>\n",
       "      <td>7.0</td>\n",
       "      <td>97.0</td>\n",
       "      <td>97.0</td>\n",
       "      <td>...</td>\n",
       "      <td>0.0</td>\n",
       "      <td>1.0</td>\n",
       "      <td>0.0</td>\n",
       "      <td>4.0</td>\n",
       "      <td>11.0</td>\n",
       "      <td>2015</td>\n",
       "      <td>3.0</td>\n",
       "      <td>NaN</td>\n",
       "      <td>0.0</td>\n",
       "      <td>0.0</td>\n",
       "    </tr>\n",
       "    <tr>\n",
       "      <th>6745</th>\n",
       "      <td>NaN</td>\n",
       "      <td>NaN</td>\n",
       "      <td>NaN</td>\n",
       "      <td>NaN</td>\n",
       "      <td>30.0</td>\n",
       "      <td>1.0</td>\n",
       "      <td>2.0</td>\n",
       "      <td>1.0</td>\n",
       "      <td>1.0</td>\n",
       "      <td>1.0</td>\n",
       "      <td>...</td>\n",
       "      <td>1.0</td>\n",
       "      <td>1.0</td>\n",
       "      <td>2.0</td>\n",
       "      <td>4.0</td>\n",
       "      <td>12.0</td>\n",
       "      <td>2015</td>\n",
       "      <td>2.0</td>\n",
       "      <td>26.0</td>\n",
       "      <td>4.0</td>\n",
       "      <td>0.0</td>\n",
       "    </tr>\n",
       "  </tbody>\n",
       "</table>\n",
       "<p>6746 rows × 329 columns</p>\n",
       "</div>"
      ],
      "text/plain": [
       "      ABELTAVL  ABELTUSE  ABELTYPE  ABLTFAIL   AGE  BAGAVAIL  BAGAVRPT  \\\n",
       "0          0.0       0.0       0.0       0.0  38.0       1.0       1.0   \n",
       "1          0.0       0.0       0.0       0.0  65.0       1.0       2.0   \n",
       "2          0.0       0.0       0.0       0.0  43.0       1.0       1.0   \n",
       "3          0.0       0.0       0.0       0.0  49.0       1.0       2.0   \n",
       "4          0.0       0.0       0.0       0.0  30.0       1.0       1.0   \n",
       "...        ...       ...       ...       ...   ...       ...       ...   \n",
       "6741       NaN       NaN       NaN       NaN  32.0       1.0       3.0   \n",
       "6742       NaN       NaN       NaN       NaN  26.0       1.0       3.0   \n",
       "6743       NaN       NaN       NaN       NaN  62.0       1.0       3.0   \n",
       "6744       NaN       NaN       NaN       NaN  43.0       1.0       3.0   \n",
       "6745       NaN       NaN       NaN       NaN  30.0       1.0       2.0   \n",
       "\n",
       "      BAGDEPLY  BAGEVENT  BAGDAMAG  ...  Traffic Condition  \\\n",
       "0          7.0      97.0      97.0  ...                0.0   \n",
       "1          1.0       1.0       1.0  ...                1.0   \n",
       "2          1.0       1.0       1.0  ...                0.0   \n",
       "3          1.0       1.0       1.0  ...                0.0   \n",
       "4          1.0       1.0       1.0  ...                2.0   \n",
       "...        ...       ...       ...  ...                ...   \n",
       "6741       7.0      97.0      97.0  ...                2.0   \n",
       "6742       7.0      97.0      97.0  ...                1.0   \n",
       "6743       7.0      97.0      97.0  ...                2.0   \n",
       "6744       7.0      97.0      97.0  ...                0.0   \n",
       "6745       1.0       1.0       1.0  ...                1.0   \n",
       "\n",
       "      Pre-event Location  Traffic Conrtol Functioning  Crash Type  month  \\\n",
       "0                    1.0                          0.0         1.0    1.0   \n",
       "1                    1.0                          2.0         4.0    2.0   \n",
       "2                    1.0                          0.0         6.0    1.0   \n",
       "3                    1.0                          0.0         4.0    1.0   \n",
       "4                    1.0                          2.0         4.0    3.0   \n",
       "...                  ...                          ...         ...    ...   \n",
       "6741                 1.0                          2.0         4.0    8.0   \n",
       "6742                 1.0                          2.0         1.0    8.0   \n",
       "6743                 1.0                          2.0         4.0   10.0   \n",
       "6744                 1.0                          0.0         4.0   11.0   \n",
       "6745                 1.0                          2.0         4.0   12.0   \n",
       "\n",
       "      year  Day in Week  delta v  delta v confidence level  Body Category  \n",
       "0     2009          4.0      NaN                       0.0            3.0  \n",
       "1     2009          7.0     32.0                       1.0            3.0  \n",
       "2     2009          1.0     22.0                       3.0            0.0  \n",
       "3     2009          5.0     28.0                       1.0            1.0  \n",
       "4     2009          7.0     23.0                       1.0            1.0  \n",
       "...    ...          ...      ...                       ...            ...  \n",
       "6741  2015          1.0     15.0                       1.0            0.0  \n",
       "6742  2015          5.0     12.0                       4.0            0.0  \n",
       "6743  2015          6.0     19.0                       1.0            1.0  \n",
       "6744  2015          3.0      NaN                       0.0            0.0  \n",
       "6745  2015          2.0     26.0                       4.0            0.0  \n",
       "\n",
       "[6746 rows x 329 columns]"
      ]
     },
     "execution_count": 37,
     "metadata": {},
     "output_type": "execute_result"
    }
   ],
   "source": [
    "data_dropna = data_with_selection.copy(deep=True).dropna(subset=dropna_cols)\n",
    "data_dropna.reset_index(drop=True, inplace=True)\n",
    "data_dropna"
   ]
  },
  {
   "cell_type": "code",
   "execution_count": 38,
   "id": "92db40ed",
   "metadata": {
    "ExecuteTime": {
     "end_time": "2024-06-12T09:25:53.126053Z",
     "start_time": "2024-06-12T09:25:53.094544Z"
    }
   },
   "outputs": [
    {
     "name": "stdout",
     "output_type": "stream",
     "text": [
      "MAIS ___ 1.0\n",
      "Body Category ___ 1.0\n",
      "Model Year ___ 1.0\n",
      "Curb Weight ___ 1.0\n",
      "premovement before collision ___ 1.0\n",
      "Maneuver before collision ___ 0.88\n",
      "Clock-form Direction of force ___ 1.0\n",
      "Alcohol Present ___ 0.959\n",
      "Distracted in Driving ___ 0.805\n",
      "Sex ___ 1.0\n",
      "Age ___ 1.0\n",
      "height ___ 1.0\n",
      "weight ___ 1.0\n",
      "Race ___ 1.0\n",
      "Speed Limit ___ 1.0\n",
      "Related to Intersection ___ 1.0\n",
      "Traffic Flow Situation ___ 1.0\n",
      "Number of lanes ___ 1.0\n",
      "Alignment of Road ___ 1.0\n",
      "Uphill or Downhill ___ 1.0\n",
      "Surface Type ___ 1.0\n",
      "Surface Condition ___ 1.0\n",
      "Lighting Condition ___ 1.0\n",
      "Climate ___ 1.0\n",
      "Traffic Condition ___ 1.0\n",
      "Pre-event Location ___ 1.0\n",
      "Traffic Conrtol Functioning ___ 1.0\n",
      "Crash Type ___ 1.0\n",
      "month ___ 1.0\n",
      "year ___ 1.0\n",
      "Day in Week ___ 1.0\n",
      "delta v ___ 0.751\n",
      "delta v confidence level ___ 1.0\n"
     ]
    }
   ],
   "source": [
    "for col in wanted_features:\n",
    "    print(col, '___', round(sum(data_dropna[col].value_counts()) / len(data_dropna), 3))"
   ]
  },
  {
   "cell_type": "markdown",
   "id": "d79af9d7",
   "metadata": {},
   "source": [
    "# 保存全特征以及提取所需特征数据"
   ]
  },
  {
   "cell_type": "markdown",
   "id": "549d9bf9",
   "metadata": {},
   "source": [
    "## 处理完的只剩需要特征的数据"
   ]
  },
  {
   "cell_type": "code",
   "execution_count": 39,
   "id": "b5fdc7ad",
   "metadata": {
    "ExecuteTime": {
     "end_time": "2024-06-12T09:26:00.608325Z",
     "start_time": "2024-06-12T09:25:59.698127Z"
    }
   },
   "outputs": [],
   "source": [
    "data_dropna.to_csv(os.path.join(os.path.dirname(os.curdir),\n",
    "                                'CreatedData/NASS/',\n",
    "                                OUTPUT_FILE + '_Dropna.csv'),\n",
    "                   encoding='utf-8')"
   ]
  },
  {
   "cell_type": "markdown",
   "id": "e6a8d84a",
   "metadata": {},
   "source": [
    "## 未dropna的全数据"
   ]
  },
  {
   "cell_type": "code",
   "execution_count": 40,
   "id": "80509f81",
   "metadata": {
    "ExecuteTime": {
     "end_time": "2024-06-12T09:26:02.930425Z",
     "start_time": "2024-06-12T09:26:01.361320Z"
    }
   },
   "outputs": [],
   "source": [
    "data_with_selection.to_csv(os.path.join(os.path.dirname(\n",
    "    os.curdir), 'CreatedData/NASS/', OUTPUT_FILE + '_NoDropAllFeatures.csv'),\n",
    "                           encoding='utf-8')"
   ]
  },
  {
   "cell_type": "markdown",
   "id": "c80c94b4",
   "metadata": {},
   "source": [
    "\n",
    "# 对缺失比例不高的变量是否使用某些方法进行填补？\n",
    "\n",
    "- Alcohol Present ___ 0.9609115605191669\n",
    "- Distracted in Driving ___ 0.7879565348626623"
   ]
  },
  {
   "cell_type": "code",
   "execution_count": null,
   "id": "389ab8ca",
   "metadata": {
    "ExecuteTime": {
     "end_time": "2024-03-13T05:30:48.829295Z",
     "start_time": "2024-03-13T05:30:48.802268Z"
    }
   },
   "outputs": [],
   "source": [
    "data_dropna"
   ]
  },
  {
   "cell_type": "code",
   "execution_count": null,
   "id": "f7c84e71",
   "metadata": {},
   "outputs": [],
   "source": []
  }
 ],
 "metadata": {
  "kernelspec": {
   "display_name": "Python 3 (ipykernel)",
   "language": "python",
   "name": "python3"
  },
  "language_info": {
   "codemirror_mode": {
    "name": "ipython",
    "version": 3
   },
   "file_extension": ".py",
   "mimetype": "text/x-python",
   "name": "python",
   "nbconvert_exporter": "python",
   "pygments_lexer": "ipython3",
   "version": "3.9.18"
  },
  "toc": {
   "base_numbering": 1,
   "nav_menu": {},
   "number_sections": true,
   "sideBar": true,
   "skip_h1_title": false,
   "title_cell": "Table of Contents",
   "title_sidebar": "Contents",
   "toc_cell": false,
   "toc_position": {
    "height": "calc(100% - 180px)",
    "left": "10px",
    "top": "150px",
    "width": "316.7px"
   },
   "toc_section_display": true,
   "toc_window_display": false
  },
  "varInspector": {
   "cols": {
    "lenName": 16,
    "lenType": 16,
    "lenVar": 40
   },
   "kernels_config": {
    "python": {
     "delete_cmd_postfix": "",
     "delete_cmd_prefix": "del ",
     "library": "var_list.py",
     "varRefreshCmd": "print(var_dic_list())"
    },
    "r": {
     "delete_cmd_postfix": ") ",
     "delete_cmd_prefix": "rm(",
     "library": "var_list.r",
     "varRefreshCmd": "cat(var_dic_list()) "
    }
   },
   "types_to_exclude": [
    "module",
    "function",
    "builtin_function_or_method",
    "instance",
    "_Feature"
   ],
   "window_display": false
  }
 },
 "nbformat": 4,
 "nbformat_minor": 5
}
